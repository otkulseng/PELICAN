{
 "cells": [
  {
   "cell_type": "code",
   "execution_count": 1,
   "metadata": {},
   "outputs": [],
   "source": [
    "import h5py"
   ]
  },
  {
   "cell_type": "code",
   "execution_count": 50,
   "metadata": {},
   "outputs": [],
   "source": [
    "import numpy as np\n",
    "file = h5py.File('jetImage_8_150p_0_10000.h5')\n",
    "\n",
    "\n",
    "truth = []\n",
    "with open(\"test.bat\", \"w\") as outfile:\n",
    "\n",
    "    for n, (elem, res) in enumerate(zip(file['feats'], file['label'])):\n",
    "        data = np.array(elem[:8]).flatten()\n",
    "        data = [str(elem) for elem in data]\n",
    "        outfile.write(\" \".join(data) + '\\n')\n",
    "\n",
    "        truth.append(res)\n",
    "\n",
    "        # if n > 50:\n",
    "        #     break\n"
   ]
  },
  {
   "cell_type": "code",
   "execution_count": 51,
   "metadata": {},
   "outputs": [
    {
     "name": "stdout",
     "output_type": "stream",
     "text": [
      "0.123\n"
     ]
    }
   ],
   "source": [
    "def equal(l1, l2):\n",
    "    for a, b in zip(l1, l2):\n",
    "        if a != b:\n",
    "            return False\n",
    "    return True\n",
    "\n",
    "tot = 0\n",
    "corr = 0\n",
    "with open(\"csim.log\", \"r\") as file:\n",
    "    for line, t in zip(file.readlines(), truth):\n",
    "        line = line.rstrip(\"\\n\").split(\" \")\n",
    "        line = [float(elem) for elem in line]\n",
    "        line = [1 if elem == max(line) else 0 for elem in line]\n",
    "        if equal(line, t):\n",
    "            corr += 1\n",
    "        tot += 1\n",
    "\n",
    "print(corr / tot)"
   ]
  }
 ],
 "metadata": {
  "kernelspec": {
   "display_name": "keras2",
   "language": "python",
   "name": "python3"
  },
  "language_info": {
   "codemirror_mode": {
    "name": "ipython",
    "version": 3
   },
   "file_extension": ".py",
   "mimetype": "text/x-python",
   "name": "python",
   "nbconvert_exporter": "python",
   "pygments_lexer": "ipython3",
   "version": "3.11.9"
  }
 },
 "nbformat": 4,
 "nbformat_minor": 2
}
