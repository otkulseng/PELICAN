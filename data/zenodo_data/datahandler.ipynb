{
 "cells": [
  {
   "cell_type": "code",
   "execution_count": 20,
   "metadata": {},
   "outputs": [],
   "source": [
    "import h5py\n",
    "from pathlib import Path\n",
    "import os"
   ]
  },
  {
   "cell_type": "code",
   "execution_count": 21,
   "metadata": {},
   "outputs": [
    {
     "name": "stdout",
     "output_type": "stream",
     "text": [
      "jetImage_8_150p_0_10000.h5\n",
      "<KeysViewHDF5 ['jetConstituentList', 'jetFeatureNames', 'jetImage', 'jetImageECAL', 'jetImageHCAL', 'jets', 'particleFeatureNames']>\n",
      "[b'j1_px' b'j1_py' b'j1_pz' b'j1_e' b'j1_erel' b'j1_pt' b'j1_ptrel'\n",
      " b'j1_eta' b'j1_etarel' b'j1_etarot' b'j1_phi' b'j1_phirel' b'j1_phirot'\n",
      " b'j1_deltaR' b'j1_costheta' b'j1_costhetarel' b'j1_pdgid']\n"
     ]
    }
   ],
   "source": [
    "root = Path('raw')\n",
    "\n",
    "for file in (root / 'test').iterdir():\n",
    "    print(file.name)\n",
    "    h5_file = h5py.File(file)\n",
    "    print(h5_file.keys())\n",
    "    print(h5_file['particleFeatureNames'][:])\n",
    "    break\n"
   ]
  },
  {
   "cell_type": "code",
   "execution_count": 22,
   "metadata": {},
   "outputs": [],
   "source": [
    "# ptetaphi_rel\n",
    "\n",
    "for dir in root.iterdir():\n",
    "\n",
    "    os.mkdir(dir.name)\n",
    "\n",
    "    for file in dir.iterdir():\n",
    "        h5_file = h5py.File(file)\n",
    "\n",
    "        feats = h5_file['jetConstituentList'][:, :, [5, 8, 11]]\n",
    "        labels = h5_file['jets'][:, -6:-1]\n",
    "\n",
    "\n",
    "        with h5py.File(Path(dir.name) / file.name, 'w') as new_file:\n",
    "            new_file.create_dataset('feats', data=feats)\n",
    "            new_file.create_dataset('label', data=labels)\n",
    "\n"
   ]
  },
  {
   "cell_type": "code",
   "execution_count": 23,
   "metadata": {},
   "outputs": [
    {
     "ename": "FileExistsError",
     "evalue": "[WinError 183] Kan ikke opprette en fil når filen allerede finnes: 'test'",
     "output_type": "error",
     "traceback": [
      "\u001b[1;31m---------------------------------------------------------------------------\u001b[0m",
      "\u001b[1;31mFileExistsError\u001b[0m                           Traceback (most recent call last)",
      "Cell \u001b[1;32mIn[23], line 5\u001b[0m\n\u001b[0;32m      1\u001b[0m \u001b[38;5;66;03m# Fourvec\u001b[39;00m\n\u001b[0;32m      3\u001b[0m \u001b[38;5;28;01mfor\u001b[39;00m \u001b[38;5;28mdir\u001b[39m \u001b[38;5;129;01min\u001b[39;00m root\u001b[38;5;241m.\u001b[39miterdir():\n\u001b[1;32m----> 5\u001b[0m     \u001b[43mos\u001b[49m\u001b[38;5;241;43m.\u001b[39;49m\u001b[43mmkdir\u001b[49m\u001b[43m(\u001b[49m\u001b[38;5;28;43mdir\u001b[39;49m\u001b[38;5;241;43m.\u001b[39;49m\u001b[43mname\u001b[49m\u001b[43m)\u001b[49m\n\u001b[0;32m      6\u001b[0m     \u001b[38;5;28;01mfor\u001b[39;00m file \u001b[38;5;129;01min\u001b[39;00m \u001b[38;5;28mdir\u001b[39m\u001b[38;5;241m.\u001b[39miterdir():\n\u001b[0;32m      7\u001b[0m         h5_file \u001b[38;5;241m=\u001b[39m h5py\u001b[38;5;241m.\u001b[39mFile(file)\n",
      "\u001b[1;31mFileExistsError\u001b[0m: [WinError 183] Kan ikke opprette en fil når filen allerede finnes: 'test'"
     ]
    }
   ],
   "source": [
    "# Fourvec\n",
    "\n",
    "for dir in root.iterdir():\n",
    "\n",
    "    os.mkdir(dir.name)\n",
    "    for file in dir.iterdir():\n",
    "        h5_file = h5py.File(file)\n",
    "\n",
    "        feats = h5_file['jetConstituentList'][:, :, :4]\n",
    "        labels = h5_file['jets'][:, -6:-1]\n",
    "\n",
    "\n",
    "        with h5py.File(Path(dir.name) / file.name, 'w') as new_file:\n",
    "            new_file.create_dataset('feats', data=feats)\n",
    "            new_file.create_dataset('label', data=labels)\n",
    "\n"
   ]
  },
  {
   "cell_type": "code",
   "execution_count": 37,
   "metadata": {},
   "outputs": [
    {
     "name": "stdout",
     "output_type": "stream",
     "text": [
      "tf.Tensor(4.539993e-05, shape=(), dtype=float32) 10.0 0.0\n",
      "tf.Tensor(\n",
      "[[ 4.539993e-05  1.000000e+01  0.000000e+00]\n",
      " [ 4.539993e-05 -1.000000e+01  0.000000e+00]], shape=(2, 3), dtype=float32)\n"
     ]
    }
   ],
   "source": [
    "import tensorflow as tf\n",
    "\n",
    "eta = 1e1\n",
    "p_T = tf.exp(-eta)\n",
    "phi = 0.0\n",
    "\n",
    "print(p_T, eta, phi)\n",
    "A = tf.stack([\n",
    "    [p_T, eta, phi],\n",
    "    [p_T, -eta, phi]\n",
    "], axis=0)\n",
    "\n",
    "print(A)"
   ]
  },
  {
   "cell_type": "code",
   "execution_count": 38,
   "metadata": {},
   "outputs": [
    {
     "name": "stdout",
     "output_type": "stream",
     "text": [
      "y_true:\n",
      "<tf.Variable 'Variable:0' shape=(5, 1) dtype=float32, numpy=\n",
      "array([[2.],\n",
      "       [0.],\n",
      "       [0.],\n",
      "       [3.],\n",
      "       [4.]], dtype=float32)>\n",
      "y_pred:\n",
      "<tf.Variable 'Variable:0' shape=(5, 1) dtype=float32, numpy=\n",
      "array([[ 2.],\n",
      "       [-1.],\n",
      "       [ 1.],\n",
      "       [ 3.],\n",
      "       [ 4.]], dtype=float32)>\n",
      "y_zeros:\n",
      "tf.Tensor(\n",
      "[[0.]\n",
      " [0.]\n",
      " [0.]\n",
      " [0.]\n",
      " [0.]], shape=(5, 1), dtype=float32)\n",
      "y_mask:\n",
      "tf.Tensor(\n",
      "[[ True]\n",
      " [False]\n",
      " [ True]\n",
      " [ True]\n",
      " [ True]], shape=(5, 1), dtype=bool)\n",
      "res:\n",
      "tf.Tensor([2. 1. 3. 4.], shape=(4,), dtype=float32)\n",
      "logres:\n",
      "tf.Tensor([0.6931472 0.        1.0986123 1.3862944], shape=(4,), dtype=float32)\n",
      "finres:\n",
      "tf.Tensor(3.1780539, shape=(), dtype=float32)\n",
      "tf.Tensor(3.1780539, shape=(), dtype=float32)\n"
     ]
    }
   ],
   "source": [
    "import tensorflow as tf\n",
    "\n",
    "y_true = tf.Variable([[2.0],[0.0],[0.0],[3.0],[4.0]])\n",
    "y_pred = tf.Variable([[2.0],[-1.0],[1.0],[3.0],[4.0]])\n",
    "\n",
    "def my_loss_function(y_true, y_pred):\n",
    "\n",
    "    print('y_true:')\n",
    "    print(y_true)\n",
    "    print('y_pred:')\n",
    "    print(y_pred)\n",
    "\n",
    "    y_zeros = tf.zeros_like(y_pred)\n",
    "    print('y_zeros:')\n",
    "    print(y_zeros)\n",
    "\n",
    "    y_mask = tf.math.greater(y_pred, y_zeros)\n",
    "    print('y_mask:')\n",
    "    print(y_mask)\n",
    "\n",
    "    res = tf.boolean_mask(y_pred, y_mask)\n",
    "    print('res:')\n",
    "    print(res)\n",
    "\n",
    "    logres = tf.math.log(res)\n",
    "    print('logres:')\n",
    "    print(logres)\n",
    "\n",
    "    finres = tf.math.reduce_sum(logres)\n",
    "    print('finres:')\n",
    "    print(finres)\n",
    "\n",
    "    return finres\n",
    "\n",
    "myres = my_loss_function(y_true, y_pred)\n",
    "print(myres)"
   ]
  },
  {
   "cell_type": "code",
   "execution_count": 47,
   "metadata": {},
   "outputs": [
    {
     "name": "stdout",
     "output_type": "stream",
     "text": [
      "tf.Tensor(\n",
      "[[1 0 1 ... 1 1 1]\n",
      " [1 1 0 ... 1 1 1]\n",
      " [1 1 1 ... 1 1 1]\n",
      " ...\n",
      " [1 1 1 ... 1 1 1]\n",
      " [1 1 1 ... 1 1 1]\n",
      " [1 1 1 ... 1 1 1]], shape=(100, 50), dtype=int32)\n",
      "tf.Tensor(\n",
      "[[0. 0. 1. 1.]\n",
      " [0. 0. 0. 0.]\n",
      " [0. 0. 1. 1.]\n",
      " [1. 1. 1. 0.]\n",
      " [1. 1. 0. 0.]\n",
      " [0. 1. 1. 1.]\n",
      " [1. 1. 1. 1.]\n",
      " [0. 1. 0. 1.]\n",
      " [0. 0. 1. 0.]\n",
      " [0. 0. 0. 0.]\n",
      " [0. 0. 1. 0.]\n",
      " [0. 1. 1. 1.]\n",
      " [1. 0. 1. 1.]\n",
      " [0. 1. 1. 0.]\n",
      " [0. 1. 1. 0.]\n",
      " [1. 1. 0. 1.]\n",
      " [1. 1. 0. 1.]\n",
      " [1. 1. 0. 1.]\n",
      " [0. 0. 1. 1.]\n",
      " [1. 1. 1. 1.]\n",
      " [1. 1. 0. 1.]\n",
      " [1. 1. 0. 1.]\n",
      " [0. 1. 1. 1.]\n",
      " [1. 1. 1. 0.]\n",
      " [1. 1. 0. 0.]\n",
      " [1. 1. 1. 1.]\n",
      " [0. 1. 1. 1.]\n",
      " [1. 0. 1. 0.]\n",
      " [1. 1. 1. 0.]\n",
      " [0. 0. 1. 0.]\n",
      " [0. 1. 1. 1.]\n",
      " [1. 1. 0. 1.]\n",
      " [0. 0. 0. 0.]\n",
      " [0. 1. 1. 1.]\n",
      " [0. 1. 1. 0.]\n",
      " [1. 1. 1. 1.]\n",
      " [0. 0. 1. 0.]\n",
      " [1. 0. 0. 1.]\n",
      " [1. 0. 0. 0.]\n",
      " [1. 0. 1. 0.]\n",
      " [0. 1. 0. 0.]\n",
      " [1. 1. 1. 0.]\n",
      " [0. 0. 1. 1.]\n",
      " [1. 0. 1. 1.]\n",
      " [0. 1. 0. 0.]\n",
      " [0. 0. 0. 1.]\n",
      " [1. 1. 0. 0.]\n",
      " [1. 1. 0. 1.]\n",
      " [0. 0. 1. 0.]\n",
      " [0. 1. 1. 0.]], shape=(50, 4), dtype=float32)\n"
     ]
    }
   ],
   "source": [
    "import tensorflow as tf\n",
    "import numpy as np\n",
    "\n",
    "A = np.random.randint(low=0, high=2, size=(100, 50, 4))\n",
    "A = tf.cast(A, dtype=tf.float32)\n",
    "\n",
    "particle_sum = tf.reduce_sum(tf.abs(A), axis=-1)\n",
    "nonzero_indeces = tf.cast(particle_sum > 1.0e-6, tf.int32)\n",
    "print(nonzero_indeces)\n",
    "\n",
    "# print(A)\n",
    "print(A[0])\n"
   ]
  },
  {
   "cell_type": "code",
   "execution_count": null,
   "metadata": {},
   "outputs": [],
   "source": []
  }
 ],
 "metadata": {
  "kernelspec": {
   "display_name": "pelican",
   "language": "python",
   "name": "python3"
  },
  "language_info": {
   "codemirror_mode": {
    "name": "ipython",
    "version": 3
   },
   "file_extension": ".py",
   "mimetype": "text/x-python",
   "name": "python",
   "nbconvert_exporter": "python",
   "pygments_lexer": "ipython3",
   "version": "3.12.3"
  }
 },
 "nbformat": 4,
 "nbformat_minor": 2
}
