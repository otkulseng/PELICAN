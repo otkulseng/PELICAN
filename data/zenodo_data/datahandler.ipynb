{
 "cells": [
  {
   "cell_type": "code",
   "execution_count": 10,
   "metadata": {},
   "outputs": [],
   "source": [
    "import h5py\n",
    "from pathlib import Path\n",
    "import os"
   ]
  },
  {
   "cell_type": "code",
   "execution_count": 8,
   "metadata": {},
   "outputs": [
    {
     "name": "stdout",
     "output_type": "stream",
     "text": [
      "jetImage_8_150p_0_10000.h5\n",
      "<KeysViewHDF5 ['jetConstituentList', 'jetFeatureNames', 'jetImage', 'jetImageECAL', 'jetImageHCAL', 'jets', 'particleFeatureNames']>\n",
      "[b'j1_px' b'j1_py' b'j1_pz' b'j1_e' b'j1_erel' b'j1_pt' b'j1_ptrel'\n",
      " b'j1_eta' b'j1_etarel' b'j1_etarot' b'j1_phi' b'j1_phirel' b'j1_phirot'\n",
      " b'j1_deltaR' b'j1_costheta' b'j1_costhetarel' b'j1_pdgid']\n"
     ]
    }
   ],
   "source": [
    "root = Path('raw')\n",
    "\n",
    "for file in (root / 'test').iterdir():\n",
    "    print(file.name)\n",
    "    h5_file = h5py.File(file)\n",
    "    print(h5_file.keys())\n",
    "    print(h5_file['particleFeatureNames'][:])\n",
    "    break\n"
   ]
  },
  {
   "cell_type": "code",
   "execution_count": 11,
   "metadata": {},
   "outputs": [],
   "source": [
    "# ptetaphi\n",
    "\n",
    "for dir in root.iterdir():\n",
    "\n",
    "    os.mkdir(dir.name)\n",
    "\n",
    "    for file in dir.iterdir():\n",
    "        h5_file = h5py.File(file)\n",
    "\n",
    "        feats = h5_file['jetConstituentList'][:, :, [5, 7, 10]]\n",
    "        labels = h5_file['jets'][:, -6:-1]\n",
    "\n",
    "\n",
    "        with h5py.File(Path(dir.name) / file.name, 'w') as new_file:\n",
    "            new_file.create_dataset('feats', data=feats)\n",
    "            new_file.create_dataset('label', data=labels)\n",
    "\n"
   ]
  },
  {
   "cell_type": "code",
   "execution_count": 4,
   "metadata": {},
   "outputs": [],
   "source": [
    "# Fourvec\n",
    "\n",
    "for dir in root.iterdir():\n",
    "\n",
    "    os.mkdir(dir.name)\n",
    "    for file in dir.iterdir():\n",
    "        h5_file = h5py.File(file)\n",
    "\n",
    "        feats = h5_file['jetConstituentList'][:, :, :4]\n",
    "        labels = h5_file['jets'][:, -6:-1]\n",
    "\n",
    "\n",
    "        with h5py.File(Path(dir.name) / file.name, 'w') as new_file:\n",
    "            new_file.create_dataset('feats', data=feats)\n",
    "            new_file.create_dataset('label', data=labels)\n",
    "\n"
   ]
  }
 ],
 "metadata": {
  "kernelspec": {
   "display_name": "pelican",
   "language": "python",
   "name": "python3"
  },
  "language_info": {
   "codemirror_mode": {
    "name": "ipython",
    "version": 3
   },
   "file_extension": ".py",
   "mimetype": "text/x-python",
   "name": "python",
   "nbconvert_exporter": "python",
   "pygments_lexer": "ipython3",
   "version": "3.12.3"
  }
 },
 "nbformat": 4,
 "nbformat_minor": 2
}
