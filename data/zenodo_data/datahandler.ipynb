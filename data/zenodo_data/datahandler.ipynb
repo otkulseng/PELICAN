{
 "cells": [
  {
   "cell_type": "code",
   "execution_count": 3,
   "metadata": {},
   "outputs": [],
   "source": [
    "import h5py\n",
    "from pathlib import Path"
   ]
  },
  {
   "cell_type": "code",
   "execution_count": 4,
   "metadata": {},
   "outputs": [],
   "source": [
    "root = Path('raw')\n",
    "\n",
    "for dir in root.iterdir():\n",
    "\n",
    "    for file in dir.iterdir():\n",
    "        h5_file = h5py.File(file)\n",
    "\n",
    "        feats = h5_file['jetConstituentList'][:, :, :4]\n",
    "        labels = h5_file['jets'][:, -6:-1]\n",
    "\n",
    "\n",
    "        with h5py.File(Path(dir.name) / file.name, 'w') as new_file:\n",
    "            new_file.create_dataset('feats', data=feats)\n",
    "            new_file.create_dataset('label', data=labels)\n",
    "\n"
   ]
  },
  {
   "cell_type": "code",
   "execution_count": 5,
   "metadata": {},
   "outputs": [
    {
     "name": "stdout",
     "output_type": "stream",
     "text": [
      "[[0. 0. 1. 0.]\n",
      " [1. 0. 0. 0.]\n",
      " [0. 0. 0. 1.]\n",
      " [0. 0. 1. 0.]\n",
      " [1. 0. 0. 0.]\n",
      " [0. 0. 1. 0.]\n",
      " [1. 0. 0. 0.]\n",
      " [1. 0. 0. 0.]\n",
      " [0. 1. 0. 0.]\n",
      " [0. 1. 0. 0.]]\n"
     ]
    }
   ],
   "source": [
    "import numpy as np\n",
    "\n",
    "arr = np.zeros((10, 4))\n",
    "\n",
    "\n",
    "for i in range(len(arr)):\n",
    "    arr[i][np.random.randint(0, 4)] = 1\n",
    "\n",
    "print(arr)"
   ]
  },
  {
   "cell_type": "code",
   "execution_count": 6,
   "metadata": {},
   "outputs": [
    {
     "name": "stdout",
     "output_type": "stream",
     "text": [
      "[2 0 3 2 0 2 0 0 1 1]\n"
     ]
    }
   ],
   "source": [
    "arr = np.argmax(arr, axis=1)\n",
    "print(arr)"
   ]
  }
 ],
 "metadata": {
  "kernelspec": {
   "display_name": "pelican",
   "language": "python",
   "name": "python3"
  },
  "language_info": {
   "codemirror_mode": {
    "name": "ipython",
    "version": 3
   },
   "file_extension": ".py",
   "mimetype": "text/x-python",
   "name": "python",
   "nbconvert_exporter": "python",
   "pygments_lexer": "ipython3",
   "version": "3.12.3"
  }
 },
 "nbformat": 4,
 "nbformat_minor": 2
}
