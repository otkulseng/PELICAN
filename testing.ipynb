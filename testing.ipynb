{
 "cells": [
  {
   "cell_type": "code",
   "execution_count": 1,
   "metadata": {},
   "outputs": [],
   "source": [
    "import tensorflow as tf\n",
    "import keras.backend as K"
   ]
  },
  {
   "cell_type": "code",
   "execution_count": null,
   "metadata": {},
   "outputs": [],
   "source": [
    "# # B, N, N, L = inputs.shape\n",
    "#         N = inputs.shape[1]\n",
    "\n",
    "#         totsum = tf.einsum(\"...ijl->...l\", inputs)/self.average_particles**2    # B x L\n",
    "#         rowsum = tf.einsum(\"...iil->...il\", inputs)/self.average_particles          # B x N x L\n",
    "\n",
    "#         ops = [None] * 6\n",
    "\n",
    "#         ONES = tf.ones((N, N), dtype=tf.float32)\n",
    "#         IDENTITY = tf.eye(N, dtype=tf.float32)\n",
    "\n",
    "#         # Identity\n",
    "#         ops[0] = inputs\n",
    "\n",
    "#         # Totsum over entire output\n",
    "#         ops[1] = tf.einsum(\"...l, ij->...ijl\", totsum, ONES)\n",
    "\n",
    "#         # Rowsum broadcasted over rows\n",
    "#         ops[2] = tf.einsum(\"...nl, nj->...njl\", rowsum, ONES)\n",
    "\n",
    "#         # Rowsum broadcasted over columns\n",
    "#         ops[3] = tf.einsum(\"...nl, nj->...jnl\", rowsum, ONES)\n",
    "\n",
    "#         # Rowsum broadcast over diagonals\n",
    "#         ops[4] = tf.einsum(\"...nl, nj->...njl\", rowsum, IDENTITY)\n",
    "\n",
    "#         #   totsum broadcast over diagonals\n",
    "#         ops[5] = tf.einsum(\"...l, ij->...ijl\", totsum, IDENTITY)\n",
    "#         ops = tf.stack(ops, axis=-1) # B x N x N x L x 6\n",
    "\n",
    "\n",
    "#         diag_bias = tf.einsum(\"f, ij->ijf\", self.diag_bias, IDENTITY)\n",
    "#         return self.activation(\n",
    "#             (tf.einsum(\"...ijlk, lkf->...ijf\", ops, self.w)\n",
    "#             + self.bias\n",
    "#             + diag_bias))"
   ]
  },
  {
   "cell_type": "code",
   "execution_count": 41,
   "metadata": {},
   "outputs": [
    {
     "name": "stdout",
     "output_type": "stream",
     "text": [
      "tf.Tensor([24. 27.], shape=(2,), dtype=float32)\n",
      "tf.Tensor(\n",
      "[[ 0.  2.  4.]\n",
      " [ 6.  8. 10.]\n",
      " [12. 14. 16.]], shape=(3, 3), dtype=float32)\n"
     ]
    }
   ],
   "source": [
    "inputs = tf.reshape(tf.range(3*3*2, dtype=tf.float32), (3, 3, 2))\n",
    "totsum = tf.einsum(\"...ijl->...l\", inputs)\n",
    "# rowsum = tf.einsum(\"...iil->...il\", inputs)\n",
    "rowsum = tf.reduce_sum(inputs, axis=-2)\n",
    "\n",
    "trace = tf.einsum(\"iil->l\", inputs)\n",
    "print(trace)\n",
    "print(inputs[:, :, -2])\n",
    "\n",
    "N = inputs.shape[0]"
   ]
  },
  {
   "cell_type": "code",
   "execution_count": 38,
   "metadata": {},
   "outputs": [
    {
     "name": "stdout",
     "output_type": "stream",
     "text": [
      "tf.Tensor(\n",
      "[[2. 1. 1.]\n",
      " [1. 2. 1.]\n",
      " [1. 1. 2.]], shape=(3, 3), dtype=float32)\n"
     ]
    }
   ],
   "source": [
    "ONES = tf.ones((N, N), dtype=tf.float32)\n",
    "IDENTITY = tf.eye(N, dtype=tf.float32)\n",
    "\n",
    "# Totsum over entire output\n",
    "ops = tf.einsum(\"...l, ij->...ijl\", totsum, ONES)\n",
    "\n",
    "# Rowsum broadcasted over rows\n",
    "ops = tf.einsum(\"...nl, nj->...njl\", rowsum, ONES)\n",
    "\n",
    "# Rowsum broadcasted over columns\n",
    "ops = tf.einsum(\"...nl, nj->...jnl\", rowsum, ONES)\n",
    "\n",
    "# Rowsum broadcast over diagonals\n",
    "ops = tf.einsum(\"...nl, nj->...njl\", rowsum, IDENTITY)\n",
    "\n",
    "ops = tf.einsum(\"...l, ij->...ijl\", totsum, IDENTITY)\n",
    "\n",
    "\n",
    "totsum  = tf.einsum(\"bijl->bl\", inputs)/self.average_particles**2         # B x L\n",
    "trace   = tf.einsum(\"biil->bl\", inputs)\n",
    "\n",
    "print(ss[:, :, -2])"
   ]
  }
 ],
 "metadata": {
  "kernelspec": {
   "display_name": "pelican",
   "language": "python",
   "name": "python3"
  },
  "language_info": {
   "codemirror_mode": {
    "name": "ipython",
    "version": 3
   },
   "file_extension": ".py",
   "mimetype": "text/x-python",
   "name": "python",
   "nbconvert_exporter": "python",
   "pygments_lexer": "ipython3",
   "version": "3.12.3"
  }
 },
 "nbformat": 4,
 "nbformat_minor": 2
}
