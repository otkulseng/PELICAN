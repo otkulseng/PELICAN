{
 "cells": [
  {
   "cell_type": "code",
   "execution_count": 4,
   "metadata": {},
   "outputs": [],
   "source": [
    "import h5py\n",
    "from pathlib import Path\n",
    "from keras import models"
   ]
  },
  {
   "cell_type": "code",
   "execution_count": 9,
   "metadata": {},
   "outputs": [],
   "source": [
    "filename = Path('nano-pelican-0')\n",
    "model_file = filename / 'best_acc.keras'\n"
   ]
  },
  {
   "cell_type": "code",
   "execution_count": 10,
   "metadata": {},
   "outputs": [],
   "source": [
    "model = models.load_model(model_file, custom_objects={\n",
    "    'lr': None\n",
    "})"
   ]
  },
  {
   "cell_type": "code",
   "execution_count": 14,
   "metadata": {},
   "outputs": [
    {
     "name": "stdout",
     "output_type": "stream",
     "text": [
      "---------------\n",
      "<InputLayer name=input_layer, built=True>\n",
      "[]\n",
      "-------------\n",
      "---------------\n",
      "<InnerProduct name=inner_product, built=True>\n",
      "[]\n",
      "-------------\n",
      "---------------\n",
      "<BatchNormalization name=batch_normalization, built=True>\n",
      "[array([2.117725], dtype=float32), array([0.2523225], dtype=float32), array([7.876203], dtype=float32), array([1103.8418], dtype=float32)]\n",
      "-------------\n",
      "---------------\n",
      "<Lineq2v2 name=lineq2v2, built=True>\n",
      "[]\n",
      "-------------\n",
      "---------------\n",
      "<DiagBiasDense name=diag_bias_dense, built=True>\n",
      "[array([[ 1.4980932 , -1.3468716 ],\n",
      "       [-0.41907406,  1.0951812 ],\n",
      "       [-0.07335004,  0.00285947],\n",
      "       [-0.08619847,  0.0028549 ],\n",
      "       [ 0.46849534,  0.42600673],\n",
      "       [ 0.0255644 ,  0.00324858]], dtype=float32), array([ 0.30688655, -0.06764416], dtype=float32), array([-0.12074859,  0.03429979], dtype=float32)]\n",
      "-------------\n",
      "---------------\n",
      "<Multiply name=multiply, built=True>\n",
      "[]\n",
      "-------------\n",
      "---------------\n",
      "<BatchNormalization name=batch_normalization_1, built=True>\n",
      "[array([2.1283586, 6.48785  ], dtype=float32), array([-0.3863454 ,  0.88257086], dtype=float32), array([0.23142608, 0.08868341], dtype=float32), array([0.01771271, 0.03071776], dtype=float32)]\n",
      "-------------\n",
      "---------------\n",
      "<Lineq2v0 name=lineq2v0, built=True>\n",
      "[]\n",
      "-------------\n",
      "---------------\n",
      "<Dense name=dense, built=True>\n",
      "[array([[ 2.3845601e+00, -8.3872932e-01, -1.1205883e+00, -1.6430018e+00,\n",
      "        -1.3222823e+00],\n",
      "       [ 1.8795944e+00,  1.8907102e+00, -6.4119945e+00, -2.1236882e+00,\n",
      "         2.3281527e-01],\n",
      "       [-4.6756294e-02, -1.4572999e+00, -8.5674241e-02,  2.4895445e-01,\n",
      "         7.0420396e-01],\n",
      "       [-1.1834081e+00, -1.9169429e-03,  3.1004283e+00,  2.1669850e+00,\n",
      "        -3.0877766e-01]], dtype=float32), array([ 0.34389555,  0.99336475, -2.4148583 ,  0.3118514 , -0.5628132 ],\n",
      "      dtype=float32)]\n",
      "-------------\n"
     ]
    }
   ],
   "source": [
    "# print(model.get_weights())\n",
    "for layer in model.layers:\n",
    "    print('---------------')\n",
    "    print(layer)\n",
    "    print(layer.get_weights())\n",
    "    print('-------------')"
   ]
  }
 ],
 "metadata": {
  "kernelspec": {
   "display_name": "pelicanLocal",
   "language": "python",
   "name": "python3"
  },
  "language_info": {
   "codemirror_mode": {
    "name": "ipython",
    "version": 3
   },
   "file_extension": ".py",
   "mimetype": "text/x-python",
   "name": "python",
   "nbconvert_exporter": "python",
   "pygments_lexer": "ipython3",
   "version": "3.12.3"
  }
 },
 "nbformat": 4,
 "nbformat_minor": 2
}
