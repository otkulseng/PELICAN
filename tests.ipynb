{
 "cells": [
  {
   "cell_type": "code",
   "execution_count": 1,
   "metadata": {},
   "outputs": [
    {
     "name": "stdout",
     "output_type": "stream",
     "text": [
      "WARNING:tensorflow:From c:\\Users\\otkul\\ETH\\vår\\project\\.env\\Lib\\site-packages\\keras\\src\\losses.py:2976: The name tf.losses.sparse_softmax_cross_entropy is deprecated. Please use tf.compat.v1.losses.sparse_softmax_cross_entropy instead.\n",
      "\n"
     ]
    }
   ],
   "source": [
    "import equivariant\n",
    "\n",
    "eps = 1e-4"
   ]
  },
  {
   "cell_type": "code",
   "execution_count": 2,
   "metadata": {},
   "outputs": [],
   "source": [
    "# Tests if all linear equivariant transformations are correct\n",
    "# equivariant.test_all(eps)"
   ]
  },
  {
   "cell_type": "code",
   "execution_count": 3,
   "metadata": {},
   "outputs": [],
   "source": [
    "# Tests the permutation equivariance/invariance of the layers\n",
    "from layers import LinEq2v2, Msg, LinEq2v0\n",
    "from keras.models import Sequential\n",
    "from keras.layers import Dense, Flatten\n",
    "import numpy as np\n",
    "import tensorflow as tf\n",
    "\n",
    "\n",
    "num_tests = 10\n"
   ]
  },
  {
   "cell_type": "code",
   "execution_count": 4,
   "metadata": {},
   "outputs": [
    {
     "name": "stdout",
     "output_type": "stream",
     "text": [
      "WARNING:tensorflow:From c:\\Users\\otkul\\ETH\\vår\\project\\.env\\Lib\\site-packages\\keras\\src\\backend.py:873: The name tf.get_default_graph is deprecated. Please use tf.compat.v1.get_default_graph instead.\n",
      "\n",
      "WARNING:tensorflow:From c:\\Users\\otkul\\ETH\\vår\\project\\.env\\Lib\\site-packages\\keras\\src\\layers\\normalization\\batch_normalization.py:979: The name tf.nn.fused_batch_norm is deprecated. Please use tf.compat.v1.nn.fused_batch_norm instead.\n",
      "\n",
      "All tests passed\n"
     ]
    }
   ],
   "source": [
    "# Check perm invariance\n",
    "\n",
    "model_perminv = Sequential(\n",
    "    layers=\n",
    "    [\n",
    "        Msg(30, activation='sigmoid'),\n",
    "        LinEq2v0(20, activation='sigmoid'),\n",
    "        Dense(5)\n",
    "    ]\n",
    ")\n",
    "\n",
    "N = np.random.randint(10, 20) # Number of particles\n",
    "\n",
    "momentum = np.random.normal(\n",
    "    size=(N, 3)\n",
    ")\n",
    "\n",
    "input_tensor = np.einsum(\"pi, qj->pq\", momentum, momentum)\n",
    "output = model_perminv(input_tensor.reshape((1, N, N, 1)))\n",
    "\n",
    "for n in range(num_tests):\n",
    "    perm = np.random.permutation(N)\n",
    "    model_input = np.einsum(\"pi, qj->pq\", momentum[perm], momentum[perm])\n",
    "    model_input = np.reshape(model_input, (1, N, N, 1))\n",
    "    model_output = model_perminv(model_input)\n",
    "    diff = np.max(np.abs(output - model_output))\n",
    "\n",
    "    assert(diff < eps)\n",
    "\n",
    "print(\"All tests passed\")\n"
   ]
  },
  {
   "cell_type": "code",
   "execution_count": 6,
   "metadata": {},
   "outputs": [
    {
     "name": "stdout",
     "output_type": "stream",
     "text": [
      "tf.Tensor([[0.0000000e+00 1.0000000e+00 0.0000000e+00 3.1607505e-13 0.0000000e+00]], shape=(1, 5), dtype=float32)\n",
      "tf.Tensor([[0.0000000e+00 1.0000000e+00 0.0000000e+00 3.1604428e-13 0.0000000e+00]], shape=(1, 5), dtype=float32)\n",
      "tf.Tensor([[0.000000e+00 1.000000e+00 0.000000e+00 3.160485e-13 0.000000e+00]], shape=(1, 5), dtype=float32)\n",
      "tf.Tensor([[0.0000000e+00 1.0000000e+00 0.0000000e+00 3.1617753e-13 0.0000000e+00]], shape=(1, 5), dtype=float32)\n",
      "tf.Tensor([[0.0000000e+00 1.0000000e+00 0.0000000e+00 3.1603526e-13 0.0000000e+00]], shape=(1, 5), dtype=float32)\n",
      "tf.Tensor([[0.0000000e+00 1.0000000e+00 0.0000000e+00 3.1610578e-13 0.0000000e+00]], shape=(1, 5), dtype=float32)\n",
      "tf.Tensor([[0.0000000e+00 1.0000000e+00 0.0000000e+00 3.1622158e-13 0.0000000e+00]], shape=(1, 5), dtype=float32)\n",
      "tf.Tensor([[0.000000e+00 1.000000e+00 0.000000e+00 3.160919e-13 0.000000e+00]], shape=(1, 5), dtype=float32)\n",
      "tf.Tensor([[0.0000000e+00 1.0000000e+00 0.0000000e+00 3.1610278e-13 0.0000000e+00]], shape=(1, 5), dtype=float32)\n",
      "tf.Tensor([[0.0000000e+00 1.0000000e+00 0.0000000e+00 3.1608047e-13 0.0000000e+00]], shape=(1, 5), dtype=float32)\n",
      "All tests passed\n"
     ]
    }
   ],
   "source": [
    "# Check perm equivariance (Know from test above that test is only invariant iff all layers are equivariant/invariant)\n",
    "\n",
    "model_permeq = Sequential(\n",
    "    layers=\n",
    "    [\n",
    "        Msg(30, activation='leaky_relu'),\n",
    "        LinEq2v2(40, activation='leaky_relu'),\n",
    "\n",
    "        LinEq2v0(20, activation='leaky_relu'),\n",
    "        Dense(5, activation='softmax')\n",
    "    ]\n",
    ")\n",
    "\n",
    "N = np.random.randint(10, 20) # Number of particles\n",
    "\n",
    "momentum = np.random.normal(\n",
    "    size=(N, 3)\n",
    ")\n",
    "\n",
    "input_tensor = np.einsum(\"pi, qj->pq\", momentum, momentum)\n",
    "output = model_permeq(input_tensor.reshape((1, N, N, 1)))\n",
    "\n",
    "for n in range(num_tests):\n",
    "    perm = np.random.permutation(N)\n",
    "    model_input = np.einsum(\"pi, qj->pq\", momentum[perm], momentum[perm])\n",
    "    model_input = np.reshape(model_input, (1, N, N, 1))\n",
    "\n",
    "    model_output = model_permeq(model_input)\n",
    "    diff = np.max(np.abs(output - model_output))\n",
    "    print(model_output)\n",
    "\n",
    "    assert(diff < eps)\n",
    "\n",
    "print(\"All tests passed\")\n"
   ]
  }
 ],
 "metadata": {
  "kernelspec": {
   "display_name": ".env",
   "language": "python",
   "name": "python3"
  },
  "language_info": {
   "codemirror_mode": {
    "name": "ipython",
    "version": 3
   },
   "file_extension": ".py",
   "mimetype": "text/x-python",
   "name": "python",
   "nbconvert_exporter": "python",
   "pygments_lexer": "ipython3",
   "version": "3.11.5"
  }
 },
 "nbformat": 4,
 "nbformat_minor": 2
}
