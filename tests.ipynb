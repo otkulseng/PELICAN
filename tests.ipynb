{
 "cells": [
  {
   "cell_type": "code",
   "execution_count": 7,
   "metadata": {},
   "outputs": [],
   "source": [
    "import equivariant\n",
    "\n",
    "eps = 1e-4"
   ]
  },
  {
   "cell_type": "code",
   "execution_count": 8,
   "metadata": {},
   "outputs": [],
   "source": [
    "# Tests if all linear equivariant transformations are correct\n",
    "# equivariant.test_all(eps)"
   ]
  },
  {
   "cell_type": "code",
   "execution_count": 9,
   "metadata": {},
   "outputs": [],
   "source": [
    "# Tests the permutation equivariance/invariance of the layers\n",
    "from layers import LinEq2v2, Msg, LinEq2v0\n",
    "from keras.models import Sequential\n",
    "from keras.layers import Dense, Flatten\n",
    "import numpy as np\n",
    "import tensorflow as tf\n",
    "\n",
    "\n",
    "num_tests = 10\n"
   ]
  },
  {
   "cell_type": "code",
   "execution_count": 10,
   "metadata": {},
   "outputs": [
    {
     "name": "stdout",
     "output_type": "stream",
     "text": [
      "All tests passed\n"
     ]
    }
   ],
   "source": [
    "# Check perm invariance\n",
    "\n",
    "model_perminv = Sequential(\n",
    "    layers=\n",
    "    [\n",
    "        Msg(30, activation='sigmoid'),\n",
    "        LinEq2v0(20, activation='sigmoid'),\n",
    "        Dense(5)\n",
    "    ]\n",
    ")\n",
    "\n",
    "N = np.random.randint(10, 20) # Number of particles\n",
    "\n",
    "momentum = np.random.normal(\n",
    "    size=(N, 3)\n",
    ")\n",
    "\n",
    "input_tensor = np.einsum(\"pi, qj->pq\", momentum, momentum)\n",
    "output = model_perminv(input_tensor.reshape((1, N, N, 1)))\n",
    "\n",
    "for n in range(num_tests):\n",
    "    perm = np.random.permutation(N)\n",
    "    model_input = np.einsum(\"pi, qj->pq\", momentum[perm], momentum[perm])\n",
    "    model_input = np.reshape(model_input, (1, N, N, 1))\n",
    "    model_output = model_perminv(model_input)\n",
    "    diff = np.max(np.abs(output - model_output))\n",
    "\n",
    "    assert(diff < eps)\n",
    "\n",
    "print(\"All tests passed\")\n"
   ]
  },
  {
   "cell_type": "code",
   "execution_count": 15,
   "metadata": {},
   "outputs": [
    {
     "name": "stdout",
     "output_type": "stream",
     "text": [
      "tf.Tensor([[0. 0. 0. 1. 0.]], shape=(1, 5), dtype=float32) 14.42801085342983\n",
      "tf.Tensor([[0. 0. 0. 1. 0.]], shape=(1, 5), dtype=float32) 0.021251503398170956\n",
      "tf.Tensor([[0. 0. 0. 1. 0.]], shape=(1, 5), dtype=float32) 2.516883761611963\n",
      "tf.Tensor([[0. 0. 0. 1. 0.]], shape=(1, 5), dtype=float32) 0.2520046524777635\n",
      "tf.Tensor([[0. 0. 0. 1. 0.]], shape=(1, 5), dtype=float32) 15.409759274558818\n",
      "tf.Tensor([[0. 0. 0. 1. 0.]], shape=(1, 5), dtype=float32) 0.10411007980244236\n",
      "tf.Tensor([[0. 0. 0. 1. 0.]], shape=(1, 5), dtype=float32) 0.021251503398170956\n",
      "tf.Tensor([[0. 0. 0. 1. 0.]], shape=(1, 5), dtype=float32) 23.470559799958544\n",
      "tf.Tensor([[0. 0. 0. 1. 0.]], shape=(1, 5), dtype=float32) 0.005234974317019601\n",
      "tf.Tensor([[0. 0. 0. 1. 0.]], shape=(1, 5), dtype=float32) 0.16261112410761153\n",
      "All tests passed\n"
     ]
    }
   ],
   "source": [
    "# Check perm equivariance (Know from test above that test is only invariant iff all layers are equivariant/invariant)\n",
    "\n",
    "model_permeq = Sequential(\n",
    "    layers=\n",
    "    [\n",
    "        Msg(30, activation='leaky_relu'),\n",
    "        LinEq2v2(40, activation='leaky_relu'),\n",
    "\n",
    "        LinEq2v0(20, activation='leaky_relu'),\n",
    "        Dense(5, activation='softmax')\n",
    "    ]\n",
    ")\n",
    "\n",
    "N = np.random.randint(10, 20) # Number of particles\n",
    "\n",
    "momentum = np.random.normal(\n",
    "    size=(N, 3)\n",
    ")\n",
    "\n",
    "input_tensor = np.einsum(\"pi, qj->pq\", momentum, momentum)\n",
    "output = model_permeq(input_tensor.reshape((1, N, N, 1)))\n",
    "\n",
    "for n in range(num_tests):\n",
    "    perm = np.random.permutation(N)\n",
    "    model_input = np.einsum(\"pi, qj->pq\", momentum[perm], momentum[perm])\n",
    "    model_input = np.reshape(model_input, (1, N, N, 1))\n",
    "\n",
    "    model_output = model_permeq(model_input)\n",
    "    diff = np.max(np.abs(output - model_output))\n",
    "    print(model_output, model_input[0][0][0][0])\n",
    "\n",
    "    assert(diff < eps)\n",
    "\n",
    "print(\"All tests passed\")\n"
   ]
  }
 ],
 "metadata": {
  "kernelspec": {
   "display_name": ".env",
   "language": "python",
   "name": "python3"
  },
  "language_info": {
   "codemirror_mode": {
    "name": "ipython",
    "version": 3
   },
   "file_extension": ".py",
   "mimetype": "text/x-python",
   "name": "python",
   "nbconvert_exporter": "python",
   "pygments_lexer": "ipython3",
   "version": "3.11.5"
  }
 },
 "nbformat": 4,
 "nbformat_minor": 2
}
