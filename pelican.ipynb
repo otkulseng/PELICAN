{
 "cells": [
  {
   "cell_type": "code",
   "execution_count": 1,
   "metadata": {},
   "outputs": [
    {
     "name": "stdout",
     "output_type": "stream",
     "text": [
      "WARNING:tensorflow:From c:\\Users\\otkul\\ETH\\vår\\project\\.env\\Lib\\site-packages\\keras\\src\\losses.py:2976: The name tf.losses.sparse_softmax_cross_entropy is deprecated. Please use tf.compat.v1.losses.sparse_softmax_cross_entropy instead.\n",
      "\n"
     ]
    }
   ],
   "source": [
    "import keras\n",
    "import numpy as np\n",
    "from layers import Msg, LinEq2v2, LinEq2v0\n",
    "from keras.layers import Dense, Flatten, Dropout\n",
    "from keras.models import Model\n"
   ]
  },
  {
   "cell_type": "code",
   "execution_count": 2,
   "metadata": {},
   "outputs": [],
   "source": [
    "class PELICAN(Model):\n",
    "    def __init__(self, depth=1, dropout=0.0, activation=None, msg_outputs=10, agg_outputs=10, dense_output=10, scal_outputs=2):\n",
    "        super().__init__()\n",
    "\n",
    "        self.msg_layers = [Msg(outputs=msg_outputs, activation=activation) for _ in range(depth)]\n",
    "        self.dropout    = Dropout(rate=dropout)\n",
    "        self.agg_layers = [LinEq2v2(outputs=agg_outputs, activation=activation) for _ in range(depth)]\n",
    "        self.scal_layer = LinEq2v0(outputs=scal_outputs, activation=activation)\n",
    "\n",
    "        self.dense = Dense(units=dense_output)\n",
    "\n",
    "    def call(self, inputs):\n",
    "        # Note: Assumes input shape to be\n",
    "        # Batch x N x N x L\n",
    "        # Where N is dimension of 2d input tensors. Every L signals\n",
    "        # different 2d tensor\n",
    "\n",
    "        x = inputs\n",
    "        for msg, agg in zip(self.msg_layers, self.agg_layers):\n",
    "            x = msg(x)\n",
    "            x = self.dropout(x)\n",
    "            x = agg(x)\n",
    "        x = self.scal_layer(x)\n",
    "        x = Flatten()(x)\n",
    "        x = self.dense(x)\n",
    "\n",
    "        return x"
   ]
  },
  {
   "cell_type": "code",
   "execution_count": 3,
   "metadata": {},
   "outputs": [
    {
     "name": "stdout",
     "output_type": "stream",
     "text": [
      "WARNING:tensorflow:From c:\\Users\\otkul\\ETH\\vår\\project\\.env\\Lib\\site-packages\\keras\\src\\backend.py:873: The name tf.get_default_graph is deprecated. Please use tf.compat.v1.get_default_graph instead.\n",
      "\n"
     ]
    }
   ],
   "source": [
    "model = PELICAN(\n",
    "    depth=4,\n",
    "    activation='sigmoid',\n",
    "    msg_outputs=37,\n",
    "    agg_outputs=59,\n",
    "    scal_outputs=21,\n",
    "    dense_output=10\n",
    ")\n",
    "\n",
    "model.compile(\n",
    "    optimizer=tf.keras.optimizers.Adam(0.001),\n",
    "    loss=keras.losses.SparseCategoricalCrossentropy(from_logits=True),\n",
    "    metrics=[tf.keras.metrics.SparseCategoricalAccuracy()],\n",
    ")\n",
    "\n"
   ]
  },
  {
   "cell_type": "code",
   "execution_count": 4,
   "metadata": {},
   "outputs": [],
   "source": [
    "a = np.random.normal(size=(20, 3))\n"
   ]
  },
  {
   "cell_type": "code",
   "execution_count": 5,
   "metadata": {},
   "outputs": [],
   "source": [
    "A = np.array(\n",
    "[\n",
    "        np.einsum('ij, kj->ik', elem, elem) for elem in [\n",
    "        np.random.permutation(a) for _ in range(100)\n",
    "    ]\n",
    "])\n",
    "\n",
    "A = np.expand_dims(A, -1)\n"
   ]
  },
  {
   "cell_type": "code",
   "execution_count": 6,
   "metadata": {},
   "outputs": [
    {
     "name": "stdout",
     "output_type": "stream",
     "text": [
      "WARNING:tensorflow:From c:\\Users\\otkul\\ETH\\vår\\project\\.env\\Lib\\site-packages\\keras\\src\\layers\\normalization\\batch_normalization.py:979: The name tf.nn.fused_batch_norm is deprecated. Please use tf.compat.v1.nn.fused_batch_norm instead.\n",
      "\n"
     ]
    }
   ],
   "source": [
    "y = model(A)\n",
    "yavg = np.average(y, axis=0)\n"
   ]
  },
  {
   "cell_type": "code",
   "execution_count": 7,
   "metadata": {},
   "outputs": [
    {
     "name": "stdout",
     "output_type": "stream",
     "text": [
      "6.113182e-07\n",
      "2.3841858e-08\n"
     ]
    }
   ],
   "source": [
    "print(np.std(y-yavg))\n",
    "print(np.mean(y-yavg))"
   ]
  },
  {
   "cell_type": "code",
   "execution_count": 8,
   "metadata": {},
   "outputs": [
    {
     "name": "stdout",
     "output_type": "stream",
     "text": [
      "(100, 10)\n"
     ]
    }
   ],
   "source": [
    "print(y.shape)\n"
   ]
  },
  {
   "cell_type": "code",
   "execution_count": 9,
   "metadata": {},
   "outputs": [
    {
     "name": "stdout",
     "output_type": "stream",
     "text": [
      "Model: \"pelican\"\n",
      "_________________________________________________________________\n",
      " Layer (type)                Output Shape              Param #   \n",
      "=================================================================\n",
      " msg (Msg)                   multiple                  185       \n",
      "                                                                 \n",
      " msg_1 (Msg)                 multiple                  2331      \n",
      "                                                                 \n",
      " msg_2 (Msg)                 multiple                  2331      \n",
      "                                                                 \n",
      " msg_3 (Msg)                 multiple                  2331      \n",
      "                                                                 \n",
      " dropout (Dropout)           multiple                  0         \n",
      "                                                                 \n",
      " lin_eq2v2 (LinEq2v2)        multiple                  32745     \n",
      "                                                                 \n",
      " lin_eq2v2_1 (LinEq2v2)      multiple                  32745     \n",
      "                                                                 \n",
      " lin_eq2v2_2 (LinEq2v2)      multiple                  32745     \n",
      "                                                                 \n",
      " lin_eq2v2_3 (LinEq2v2)      multiple                  32745     \n",
      "                                                                 \n",
      " lin_eq2v0 (LinEq2v0)        multiple                  2478      \n",
      "                                                                 \n",
      " dense (Dense)               multiple                  220       \n",
      "                                                                 \n",
      "=================================================================\n",
      "Total params: 140856 (550.22 KB)\n",
      "Trainable params: 140560 (549.06 KB)\n",
      "Non-trainable params: 296 (1.16 KB)\n",
      "_________________________________________________________________\n"
     ]
    }
   ],
   "source": [
    "model.summary()"
   ]
  }
 ],
 "metadata": {
  "kernelspec": {
   "display_name": ".env",
   "language": "python",
   "name": "python3"
  },
  "language_info": {
   "codemirror_mode": {
    "name": "ipython",
    "version": 3
   },
   "file_extension": ".py",
   "mimetype": "text/x-python",
   "name": "python",
   "nbconvert_exporter": "python",
   "pygments_lexer": "ipython3",
   "version": "3.11.5"
  }
 },
 "nbformat": 4,
 "nbformat_minor": 2
}
