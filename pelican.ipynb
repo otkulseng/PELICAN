{
 "cells": [
  {
   "cell_type": "code",
   "execution_count": 1,
   "metadata": {},
   "outputs": [
    {
     "name": "stdout",
     "output_type": "stream",
     "text": [
      "WARNING:tensorflow:From c:\\Users\\otkul\\ETH\\vår\\project\\.env\\Lib\\site-packages\\keras\\src\\losses.py:2976: The name tf.losses.sparse_softmax_cross_entropy is deprecated. Please use tf.compat.v1.losses.sparse_softmax_cross_entropy instead.\n",
      "\n"
     ]
    }
   ],
   "source": [
    "import tensorflow as tf\n",
    "from layers import PELICAN\n",
    "\n"
   ]
  },
  {
   "cell_type": "code",
   "execution_count": 2,
   "metadata": {},
   "outputs": [
    {
     "name": "stdout",
     "output_type": "stream",
     "text": [
      "WARNING:tensorflow:From c:\\Users\\otkul\\ETH\\vår\\project\\.env\\Lib\\site-packages\\keras\\src\\backend.py:873: The name tf.get_default_graph is deprecated. Please use tf.compat.v1.get_default_graph instead.\n",
      "\n"
     ]
    }
   ],
   "source": [
    "model = PELICAN(\n",
    "    depth=5,\n",
    "    dropout=0.1,\n",
    "    msg_outputs=35,\n",
    "    agg_outputs=60,\n",
    "    activation='leaky_relu'\n",
    ")\n",
    "\n",
    "model.compile(\n",
    "    optimizer=tf.keras.optimizers.Adam(0.001),\n",
    "    loss=tf.keras.losses.SparseCategoricalCrossentropy(from_logits=True),\n",
    "    metrics=[tf.keras.metrics.SparseCategoricalAccuracy()],\n",
    ")\n",
    "\n"
   ]
  },
  {
   "cell_type": "code",
   "execution_count": 3,
   "metadata": {},
   "outputs": [
    {
     "name": "stdout",
     "output_type": "stream",
     "text": [
      "WARNING:tensorflow:From c:\\Users\\otkul\\ETH\\vår\\project\\.env\\Lib\\site-packages\\keras\\src\\engine\\base_layer_utils.py:189: The name tf.placeholder is deprecated. Please use tf.compat.v1.placeholder instead.\n",
      "\n"
     ]
    }
   ],
   "source": [
    "model.build(input_shape=(5, 5, 1))"
   ]
  },
  {
   "cell_type": "code",
   "execution_count": 4,
   "metadata": {},
   "outputs": [
    {
     "name": "stdout",
     "output_type": "stream",
     "text": [
      "Model: \"pelican\"\n",
      "_________________________________________________________________\n",
      " Layer (type)                Output Shape              Param #   \n",
      "=================================================================\n",
      " msg (Msg)                   multiple                  175       \n",
      "                                                                 \n",
      " msg_1 (Msg)                 multiple                  175       \n",
      "                                                                 \n",
      " msg_2 (Msg)                 multiple                  175       \n",
      "                                                                 \n",
      " msg_3 (Msg)                 multiple                  175       \n",
      "                                                                 \n",
      " msg_4 (Msg)                 multiple                  175       \n",
      "                                                                 \n",
      " dropout (Dropout)           multiple                  0         \n",
      "                                                                 \n",
      " lin_eq2v2 (LinEq2v2)        multiple                  31500     \n",
      "                                                                 \n",
      " lin_eq2v2_1 (LinEq2v2)      multiple                  31500     \n",
      "                                                                 \n",
      " lin_eq2v2_2 (LinEq2v2)      multiple                  31500     \n",
      "                                                                 \n",
      " lin_eq2v2_3 (LinEq2v2)      multiple                  31500     \n",
      "                                                                 \n",
      " lin_eq2v2_4 (LinEq2v2)      multiple                  31500     \n",
      "                                                                 \n",
      "=================================================================\n",
      "Total params: 158375 (618.65 KB)\n",
      "Trainable params: 158025 (617.29 KB)\n",
      "Non-trainable params: 350 (1.37 KB)\n",
      "_________________________________________________________________\n"
     ]
    }
   ],
   "source": [
    "model.summary()"
   ]
  }
 ],
 "metadata": {
  "kernelspec": {
   "display_name": ".env",
   "language": "python",
   "name": "python3"
  },
  "language_info": {
   "codemirror_mode": {
    "name": "ipython",
    "version": 3
   },
   "file_extension": ".py",
   "mimetype": "text/x-python",
   "name": "python",
   "nbconvert_exporter": "python",
   "pygments_lexer": "ipython3",
   "version": "3.11.5"
  }
 },
 "nbformat": 4,
 "nbformat_minor": 2
}
