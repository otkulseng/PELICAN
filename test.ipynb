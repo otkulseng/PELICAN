{
 "cells": [
  {
   "cell_type": "code",
   "execution_count": 1,
   "metadata": {},
   "outputs": [],
   "source": [
    "import numpy as np\n",
    "import matplotlib.pyplot as plt"
   ]
  },
  {
   "cell_type": "code",
   "execution_count": 2,
   "metadata": {},
   "outputs": [],
   "source": [
    "num_particles = 4\n",
    "dims = 1 + 2\n",
    "\n",
    "particles = (np.random.random(\n",
    "    size=(num_particles, 2, dims) # (t, x, y, m, px, py)\n",
    ") - 0.5) * 2"
   ]
  },
  {
   "cell_type": "code",
   "execution_count": 3,
   "metadata": {},
   "outputs": [],
   "source": [
    "\n",
    "\n",
    "\n",
    "\n",
    "four_vecs = particles * 1\n",
    "for i, p in enumerate(particles):\n",
    "    mass = p[1][0]\n",
    "    momentum = p[1][1:]\n",
    "\n",
    "    E = np.sqrt(mass**2 + np.linalg.norm(momentum) ** 2)\n",
    "\n",
    "    four_vecs[i][1][0] = E\n",
    "# Now, four_vecs is (t, x, y, E, px, py)\n"
   ]
  },
  {
   "cell_type": "code",
   "execution_count": 4,
   "metadata": {},
   "outputs": [],
   "source": [
    "# Remove average position -> Translation invariant\n",
    "avg = np.average(four_vecs, axis=0)[0]\n",
    "four_vecs[:, 0] -= avg"
   ]
  },
  {
   "cell_type": "code",
   "execution_count": 5,
   "metadata": {},
   "outputs": [
    {
     "name": "stdout",
     "output_type": "stream",
     "text": [
      "[-1.11022302e-16  0.00000000e+00  2.22044605e-16]\n"
     ]
    }
   ],
   "source": [
    "# Go to COM frame -> lorentz invariant\n",
    "\n",
    "# Total 4- momentum of system\n",
    "tot_mom = np.sum(four_vecs[:, 1], axis=0)\n",
    "\n",
    "# Decomposed\n",
    "tot_energy = tot_mom[0]\n",
    "tot_spat_mom = tot_mom[1:]\n",
    "\n",
    "# Total mass\n",
    "tot_mass = np.sqrt(tot_energy**2 - np.linalg.norm(tot_spat_mom)**2)\n",
    "\n",
    "# Rotate to y dir\n",
    "theta = -np.arctan2(tot_spat_mom[1], tot_spat_mom[0])\n",
    "\n",
    "c, s = np.cos(theta), np.sin(theta)\n",
    "rot_matr = np.array([\n",
    "    [c, -s],\n",
    "    [s, c]\n",
    "])\n",
    "tot_spat_mom = rot_matr @ tot_spat_mom\n",
    "mom_x = np.sum(tot_spat_mom)\n",
    "\n",
    "# rapidity\n",
    "rap = 0.5 * np.log(\n",
    "    (tot_energy + mom_x) / (tot_energy - mom_x)\n",
    ")\n",
    "\n",
    "ch, sh = np.cosh(rap), np.sinh(rap)\n",
    "boost_matr = np.array([\n",
    "    [ch, sh],\n",
    "    [sh, ch]\n",
    "])\n",
    "\n",
    "# Total lorentz\n",
    "temp_id = np.identity(dims)\n",
    "temp_id[1:,1:] = rot_matr\n",
    "rot_matr = temp_id * 1\n",
    "\n",
    "temp_id = np.identity(dims)\n",
    "temp_id[:-1,:-1] = np.linalg.inv(boost_matr)\n",
    "boost_matr = temp_id * 1\n",
    "\n",
    "lorentz = boost_matr @ rot_matr\n",
    "\n",
    "# This lorentz transformation is the one needed to boost the total momentum 4-vector to its COM frame\n",
    "for i, p in enumerate(four_vecs):\n",
    "    pos = p[0]\n",
    "    momentum = p[1]\n",
    "\n",
    "    four_vecs[i][1] = lorentz @ pos\n",
    "    four_vecs[i][1] = lorentz @ momentum\n",
    "\n",
    "# Total 4- momentum of system\n",
    "tot_mom_test = np.sum(four_vecs[:, 1], axis=0)\n",
    "print(tot_mom_test)\n"
   ]
  },
  {
   "cell_type": "code",
   "execution_count": null,
   "metadata": {},
   "outputs": [],
   "source": []
  },
  {
   "cell_type": "code",
   "execution_count": 6,
   "metadata": {},
   "outputs": [
    {
     "data": {
      "image/png": "[encoded data removed]",
      "text/plain": [
       "<Figure size 640x480 with 1 Axes>"
      ]
     },
     "metadata": {},
     "output_type": "display_data"
    }
   ],
   "source": [
    "for p in four_vecs:\n",
    "    pos = p[0]\n",
    "    mom = p[1]\n",
    "    plt.scatter(pos[1], pos[2])\n",
    "\n",
    "# plt.scatter(avg[0][1], avg[0][2], c='b')"
   ]
  },
  {
   "cell_type": "code",
   "execution_count": 7,
   "metadata": {},
   "outputs": [],
   "source": [
    "import numpy as np"
   ]
  },
  {
   "cell_type": "code",
   "execution_count": 8,
   "metadata": {},
   "outputs": [],
   "source": [
    "\n",
    "def PermIneq(a, lambdas):\n",
    "    totsum = np.sum(a)\n",
    "    trace = np.einsum(\"ii\", a)\n",
    "    diag = np.einsum(\"ii->i\", a)\n",
    "    rowsum = np.einsum(\"ij->i\", a) # i'th element is sum of i'th row\n",
    "    colsum = np.einsum(\"ij->j\", a) # i'th element is sum of i'th column\n",
    "\n",
    "    # To diagonal (1, 4, 5, 6, 12)\n",
    "    b = np.diag(\n",
    "        lambdas[0] * diag +\n",
    "        lambdas[1] * rowsum +\n",
    "        lambdas[2] * colsum +\n",
    "        lambdas[3] * trace +\n",
    "        lambdas[4] * totsum\n",
    "    )\n",
    "\n",
    "    # To rows (2, 13, 14)\n",
    "    b += (\n",
    "        lambdas[5] * diag +\n",
    "        lambdas[6] * rowsum +\n",
    "        lambdas[7] * colsum\n",
    "    )\n",
    "\n",
    "    # To cols (3, 10, 11)\n",
    "    b = np.transpose(b)\n",
    "    b += (\n",
    "        lambdas[8] * diag +\n",
    "        lambdas[9] * rowsum +\n",
    "        lambdas[10] * colsum\n",
    "    )\n",
    "    b = np.transpose(b)\n",
    "\n",
    "    # To whole (7, 8, 9, 15)\n",
    "    b += (\n",
    "        lambdas[11] * np.transpose(a) +\n",
    "        lambdas[12] * a +\n",
    "        lambdas[13] * trace +\n",
    "        lambdas[14] * totsum\n",
    "    )\n",
    "    return b\n"
   ]
  },
  {
   "cell_type": "code",
   "execution_count": 9,
   "metadata": {},
   "outputs": [],
   "source": [
    "lambdas = np.random.normal(size=15)"
   ]
  },
  {
   "cell_type": "code",
   "execution_count": 10,
   "metadata": {},
   "outputs": [
    {
     "name": "stdout",
     "output_type": "stream",
     "text": [
      "[[ -88.42185248 -150.8674306  -153.02937439 -156.69213844 -161.85572275]\n",
      " [-144.15964036  -81.25637008 -149.06989075 -153.77624634 -159.9834222 ]\n",
      " [-137.64533581 -140.39364242  -73.2595024  -150.39271643 -157.64348383]\n",
      " [-130.66339344 -134.45529159 -139.74801     -64.43124944 -154.83590763]\n",
      " [-123.21381324 -128.04930294 -134.3856129  -142.22274312  -54.7716112 ]]\n",
      "[[ -81.25637008 -144.15964036 -149.06989075 -153.77624634 -159.9834222 ]\n",
      " [-150.8674306   -88.42185248 -153.02937439 -156.69213844 -161.85572275]\n",
      " [-140.39364242 -137.64533581  -73.2595024  -150.39271643 -157.64348383]\n",
      " [-134.45529159 -130.66339344 -139.74801     -64.43124944 -154.83590763]\n",
      " [-128.04930294 -123.21381324 -134.3856129  -142.22274312  -54.7716112 ]]\n"
     ]
    }
   ],
   "source": [
    "a = np.arange(5)\n",
    "outer = np.outer(a, a)\n",
    "print(PermIneq(outer, lambdas))\n",
    "\n",
    "a[0] = 1\n",
    "a[1] = 0\n",
    "outer = np.outer(a, a)\n",
    "print(PermIneq(outer, lambdas))\n",
    "\n"
   ]
  },
  {
   "cell_type": "code",
   "execution_count": 11,
   "metadata": {},
   "outputs": [
    {
     "name": "stdout",
     "output_type": "stream",
     "text": [
      "[[1 2 3]\n",
      " [1 2 3]\n",
      " [1 2 3]]\n"
     ]
    }
   ],
   "source": [
    "a = np.array([1, 2, 3])\n",
    "\n",
    "c = np.einsum(\"i, j -> ij\", np.ones_like(a), a)\n",
    "print(c)"
   ]
  },
  {
   "cell_type": "code",
   "execution_count": 12,
   "metadata": {},
   "outputs": [
    {
     "name": "stdout",
     "output_type": "stream",
     "text": [
      "WARNING:tensorflow:From c:\\Users\\otkul\\ETH\\vår\\project\\.env\\Lib\\site-packages\\keras\\src\\losses.py:2976: The name tf.losses.sparse_softmax_cross_entropy is deprecated. Please use tf.compat.v1.losses.sparse_softmax_cross_entropy instead.\n",
      "\n",
      "tf.Tensor(\n",
      "[[[1 2 3]\n",
      "  [4 4 4]]\n",
      "\n",
      " [[1 1 1]\n",
      "  [4 4 4]]], shape=(2, 2, 3), dtype=int32)\n",
      "tf.Tensor(\n",
      "[[1 2 3]\n",
      " [4 4 4]], shape=(2, 3), dtype=int32)\n"
     ]
    }
   ],
   "source": [
    "import tensorflow as tf\n",
    "x = tf.constant([[1, 4], [1, 4]])\n",
    "y = tf.constant([[2, 4], [1, 4]])\n",
    "z = tf.constant([[3, 4], [1, 4]])\n",
    "res = tf.stack([x, y, z], axis=2)\n",
    "print(res)\n",
    "print(res[0])\n"
   ]
  },
  {
   "cell_type": "code",
   "execution_count": 60,
   "metadata": {},
   "outputs": [
    {
     "name": "stdout",
     "output_type": "stream",
     "text": [
      "[[ 5 11 10]\n",
      " [ 5 11 10]\n",
      " [ 5 11 10]\n",
      " [ 5 11 10]]\n",
      "(4, 3)\n",
      "tf.Tensor(\n",
      "[[[[1. 0.]\n",
      "   [0. 1.]]\n",
      "\n",
      "  [[1. 0.]\n",
      "   [0. 1.]]\n",
      "\n",
      "  [[1. 0.]\n",
      "   [0. 1.]]]\n",
      "\n",
      "\n",
      " [[[1. 0.]\n",
      "   [0. 1.]]\n",
      "\n",
      "  [[1. 0.]\n",
      "   [0. 1.]]\n",
      "\n",
      "  [[1. 0.]\n",
      "   [0. 1.]]]\n",
      "\n",
      "\n",
      " [[[1. 0.]\n",
      "   [0. 1.]]\n",
      "\n",
      "  [[1. 0.]\n",
      "   [0. 1.]]\n",
      "\n",
      "  [[1. 0.]\n",
      "   [0. 1.]]]\n",
      "\n",
      "\n",
      " [[[1. 0.]\n",
      "   [0. 1.]]\n",
      "\n",
      "  [[1. 0.]\n",
      "   [0. 1.]]\n",
      "\n",
      "  [[1. 0.]\n",
      "   [0. 1.]]]], shape=(4, 3, 2, 2), dtype=float32)\n",
      "(4, 3, 2, 2)\n",
      "[[[[ 5.  0.]\n",
      "   [ 0.  5.]]\n",
      "\n",
      "  [[11.  0.]\n",
      "   [ 0. 11.]]\n",
      "\n",
      "  [[10.  0.]\n",
      "   [ 0. 10.]]]\n",
      "\n",
      "\n",
      " [[[ 5.  0.]\n",
      "   [ 0.  5.]]\n",
      "\n",
      "  [[11.  0.]\n",
      "   [ 0. 11.]]\n",
      "\n",
      "  [[10.  0.]\n",
      "   [ 0. 10.]]]\n",
      "\n",
      "\n",
      " [[[ 5.  0.]\n",
      "   [ 0.  5.]]\n",
      "\n",
      "  [[11.  0.]\n",
      "   [ 0. 11.]]\n",
      "\n",
      "  [[10.  0.]\n",
      "   [ 0. 10.]]]\n",
      "\n",
      "\n",
      " [[[ 5.  0.]\n",
      "   [ 0.  5.]]\n",
      "\n",
      "  [[11.  0.]\n",
      "   [ 0. 11.]]\n",
      "\n",
      "  [[10.  0.]\n",
      "   [ 0. 10.]]]]\n",
      "(4, 3, 2, 2)\n"
     ]
    }
   ],
   "source": [
    "a = tf.stack([\n",
    "    [\n",
    "        [1, 2],\n",
    "        [3, 4]\n",
    "    ],\n",
    "    [\n",
    "        [2, 4],\n",
    "        [8, 9]\n",
    "    ],\n",
    "    [\n",
    "        [5, 1],\n",
    "        [1, 5]\n",
    "    ]\n",
    "], axis=-1)\n",
    "\n",
    "\n",
    "b = tf.stack([a, a, a, a], axis=0)\n",
    "\n",
    "N = 2\n",
    "\n",
    "L = np.einsum(\"...iil->...l\", b)\n",
    "A = tf.eye(num_rows=N, batch_shape=L.shape)\n",
    "B = np.einsum(\"...i, ...ijk->...ijk\", L, A)\n",
    "\n",
    "print(L)\n",
    "print(L.shape)\n",
    "\n",
    "print(A)\n",
    "print(A.shape)\n",
    "\n",
    "print(B)\n",
    "print(B.shape)\n",
    "# diag = tf.linalg.diag(L, num_rows=4, num_cols=4)\n",
    "# print(diag)\n",
    "\n",
    "# for i, elem in enumerate(diag):\n",
    "#     print(i)\n",
    "#     print(elem)"
   ]
  }
 ],
 "metadata": {
  "kernelspec": {
   "display_name": "env",
   "language": "python",
   "name": "python3"
  },
  "language_info": {
   "codemirror_mode": {
    "name": "ipython",
    "version": 3
   },
   "file_extension": ".py",
   "mimetype": "text/x-python",
   "name": "python",
   "nbconvert_exporter": "python",
   "pygments_lexer": "ipython3",
   "version": "3.11.5"
  }
 },
 "nbformat": 4,
 "nbformat_minor": 2
}
