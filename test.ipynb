{
 "cells": [
  {
   "cell_type": "code",
   "execution_count": 1,
   "metadata": {},
   "outputs": [],
   "source": [
    "import numpy as np\n",
    "import matplotlib.pyplot as plt"
   ]
  },
  {
   "cell_type": "code",
   "execution_count": 2,
   "metadata": {},
   "outputs": [],
   "source": [
    "num_particles = 4\n",
    "dims = 1 + 2\n",
    "\n",
    "particles = (np.random.random(\n",
    "    size=(num_particles, 2, dims) # (t, x, y, m, px, py)\n",
    ") - 0.5) * 2"
   ]
  },
  {
   "cell_type": "code",
   "execution_count": 3,
   "metadata": {},
   "outputs": [],
   "source": [
    "\n",
    "\n",
    "\n",
    "\n",
    "four_vecs = particles * 1\n",
    "for i, p in enumerate(particles):\n",
    "    mass = p[1][0]\n",
    "    momentum = p[1][1:]\n",
    "\n",
    "    E = np.sqrt(mass**2 + np.linalg.norm(momentum) ** 2)\n",
    "\n",
    "    four_vecs[i][1][0] = E\n",
    "# Now, four_vecs is (t, x, y, E, px, py)\n"
   ]
  },
  {
   "cell_type": "code",
   "execution_count": 4,
   "metadata": {},
   "outputs": [],
   "source": [
    "# Remove average position -> Translation invariant\n",
    "avg = np.average(four_vecs, axis=0)[0]\n",
    "four_vecs[:, 0] -= avg"
   ]
  },
  {
   "cell_type": "code",
   "execution_count": 5,
   "metadata": {},
   "outputs": [
    {
     "name": "stdout",
     "output_type": "stream",
     "text": [
      "[ 2.08166817e-17  0.00000000e+00 -5.55111512e-17]\n"
     ]
    }
   ],
   "source": [
    "# Go to COM frame -> lorentz invariant\n",
    "\n",
    "# Total 4- momentum of system\n",
    "tot_mom = np.sum(four_vecs[:, 1], axis=0)\n",
    "\n",
    "# Decomposed\n",
    "tot_energy = tot_mom[0]\n",
    "tot_spat_mom = tot_mom[1:]\n",
    "\n",
    "# Total mass\n",
    "tot_mass = np.sqrt(tot_energy**2 - np.linalg.norm(tot_spat_mom)**2)\n",
    "\n",
    "# Rotate to y dir\n",
    "theta = -np.arctan2(tot_spat_mom[1], tot_spat_mom[0])\n",
    "\n",
    "c, s = np.cos(theta), np.sin(theta)\n",
    "rot_matr = np.array([\n",
    "    [c, -s],\n",
    "    [s, c]\n",
    "])\n",
    "tot_spat_mom = rot_matr @ tot_spat_mom\n",
    "mom_x = np.sum(tot_spat_mom)\n",
    "\n",
    "# rapidity\n",
    "rap = 0.5 * np.log(\n",
    "    (tot_energy + mom_x) / (tot_energy - mom_x)\n",
    ")\n",
    "\n",
    "ch, sh = np.cosh(rap), np.sinh(rap)\n",
    "boost_matr = np.array([\n",
    "    [ch, sh],\n",
    "    [sh, ch]\n",
    "])\n",
    "\n",
    "# Total lorentz\n",
    "temp_id = np.identity(dims)\n",
    "temp_id[1:,1:] = rot_matr\n",
    "rot_matr = temp_id * 1\n",
    "\n",
    "temp_id = np.identity(dims)\n",
    "temp_id[:-1,:-1] = np.linalg.inv(boost_matr)\n",
    "boost_matr = temp_id * 1\n",
    "\n",
    "lorentz = boost_matr @ rot_matr\n",
    "\n",
    "# This lorentz transformation is the one needed to boost the total momentum 4-vector to its COM frame\n",
    "for i, p in enumerate(four_vecs):\n",
    "    pos = p[0]\n",
    "    momentum = p[1]\n",
    "\n",
    "    four_vecs[i][1] = lorentz @ pos\n",
    "    four_vecs[i][1] = lorentz @ momentum\n",
    "\n",
    "# Total 4- momentum of system\n",
    "tot_mom_test = np.sum(four_vecs[:, 1], axis=0)\n",
    "print(tot_mom_test)\n"
   ]
  },
  {
   "cell_type": "code",
   "execution_count": null,
   "metadata": {},
   "outputs": [],
   "source": []
  },
  {
   "cell_type": "code",
   "execution_count": 6,
   "metadata": {},
   "outputs": [
    {
     "data": {
      "image/png": "[encoded data removed]",
      "text/plain": [
       "<Figure size 640x480 with 1 Axes>"
      ]
     },
     "metadata": {},
     "output_type": "display_data"
    }
   ],
   "source": [
    "for p in four_vecs:\n",
    "    pos = p[0]\n",
    "    mom = p[1]\n",
    "    plt.scatter(pos[1], pos[2])\n",
    "\n",
    "# plt.scatter(avg[0][1], avg[0][2], c='b')"
   ]
  },
  {
   "cell_type": "code",
   "execution_count": 7,
   "metadata": {},
   "outputs": [],
   "source": [
    "import numpy as np"
   ]
  },
  {
   "cell_type": "code",
   "execution_count": 43,
   "metadata": {},
   "outputs": [],
   "source": [
    "\n",
    "def PermIneq(a, lambdas):\n",
    "    totsum = np.sum(a)\n",
    "    trace = np.einsum(\"ii\", a)\n",
    "    diag = np.einsum(\"ii->i\", a)\n",
    "    rowsum = np.einsum(\"ij->i\", a) # i'th element is sum of i'th row\n",
    "    colsum = np.einsum(\"ij->j\", a) # i'th element is sum of i'th column\n",
    "\n",
    "    # To diagonal (1, 4, 5, 6, 12)\n",
    "    b = np.diag(\n",
    "        lambdas[0] * diag +\n",
    "        lambdas[1] * rowsum +\n",
    "        lambdas[2] * colsum +\n",
    "        lambdas[3] * trace +\n",
    "        lambdas[4] * totsum\n",
    "    )\n",
    "\n",
    "    # To rows (2, 13, 14)\n",
    "    b += (\n",
    "        lambdas[5] * diag +\n",
    "        lambdas[6] * rowsum +\n",
    "        lambdas[7] * colsum\n",
    "    )\n",
    "\n",
    "    # To cols (3, 10, 11)\n",
    "    b = np.transpose(b)\n",
    "    b += (\n",
    "        lambdas[8] * diag +\n",
    "        lambdas[9] * rowsum +\n",
    "        lambdas[10] * colsum\n",
    "    )\n",
    "    b = np.transpose(b)\n",
    "\n",
    "    # To whole (7, 8, 9, 15)\n",
    "    b += (\n",
    "        lambdas[11] * np.transpose(a) +\n",
    "        lambdas[12] * a +\n",
    "        lambdas[13] * trace +\n",
    "        lambdas[14] * totsum\n",
    "    )\n",
    "    return b\n"
   ]
  },
  {
   "cell_type": "code",
   "execution_count": 38,
   "metadata": {},
   "outputs": [],
   "source": [
    "lambdas = np.random.normal(size=15)"
   ]
  },
  {
   "cell_type": "code",
   "execution_count": 44,
   "metadata": {},
   "outputs": [
    {
     "name": "stdout",
     "output_type": "stream",
     "text": [
      "[[ 77.24982801 216.20721851 212.92294558 210.42114913 208.70182914]\n",
      " [216.70377919  74.03422837 209.46253499 207.0156276  205.35119667]\n",
      " [214.27066611 210.31369484  71.43782652 204.7471817  203.13763984]\n",
      " [212.97462867 209.07254646 205.95294072  69.46062248 202.06115864]\n",
      " [212.81566686 208.96847372 205.90375704 203.62151683  68.10261623]]\n",
      "[[ 74.03422837 216.70377919 209.46253499 207.0156276  205.35119667]\n",
      " [216.20721851  77.24982801 212.92294558 210.42114913 208.70182914]\n",
      " [210.31369484 214.27066611  71.43782652 204.7471817  203.13763984]\n",
      " [209.07254646 212.97462867 205.95294072  69.46062248 202.06115864]\n",
      " [208.96847372 212.81566686 205.90375704 203.62151683  68.10261623]]\n"
     ]
    }
   ],
   "source": [
    "a = np.arange(5)\n",
    "outer = np.outer(a, a)\n",
    "print(PermIneq(outer, lambdas))\n",
    "\n",
    "a[0] = 1\n",
    "a[1] = 0\n",
    "outer = np.outer(a, a)\n",
    "print(PermIneq(outer, lambdas))\n",
    "\n"
   ]
  },
  {
   "cell_type": "code",
   "execution_count": 70,
   "metadata": {},
   "outputs": [
    {
     "name": "stdout",
     "output_type": "stream",
     "text": [
      "[[1 2 3]\n",
      " [1 2 3]\n",
      " [1 2 3]]\n"
     ]
    }
   ],
   "source": [
    "a = np.array([1, 2, 3])\n",
    "\n",
    "c = np.einsum(\"i, j -> ij\", np.ones_like(a), a)\n",
    "print(c)"
   ]
  },
  {
   "cell_type": "code",
   "execution_count": 61,
   "metadata": {},
   "outputs": [
    {
     "name": "stdout",
     "output_type": "stream",
     "text": [
      "tf.Tensor(\n",
      "[[[1 2 3]\n",
      "  [4 4 4]]\n",
      "\n",
      " [[1 1 1]\n",
      "  [4 4 4]]], shape=(2, 2, 3), dtype=int32)\n",
      "tf.Tensor(\n",
      "[[1 2 3]\n",
      " [4 4 4]], shape=(2, 3), dtype=int32)\n"
     ]
    }
   ],
   "source": [
    "import tensorflow as tf\n",
    "x = tf.constant([[1, 4], [1, 4]])\n",
    "y = tf.constant([[2, 4], [1, 4]])\n",
    "z = tf.constant([[3, 4], [1, 4]])\n",
    "res = tf.stack([x, y, z], axis=2)\n",
    "print(res)\n",
    "print(res[0])\n"
   ]
  }
 ],
 "metadata": {
  "kernelspec": {
   "display_name": "env",
   "language": "python",
   "name": "python3"
  },
  "language_info": {
   "codemirror_mode": {
    "name": "ipython",
    "version": 3
   },
   "file_extension": ".py",
   "mimetype": "text/x-python",
   "name": "python",
   "nbconvert_exporter": "python",
   "pygments_lexer": "ipython3",
   "version": "3.11.5"
  }
 },
 "nbformat": 4,
 "nbformat_minor": 2
}
