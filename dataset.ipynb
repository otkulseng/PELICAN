{
 "cells": [
  {
   "cell_type": "markdown",
   "metadata": {},
   "source": [
    "**Loading of data**\n",
    "\n",
    "Initial code taken from: https://github.com/pierinim/tutorials/blob/master/GGI_Jan2021/Lecture1/Notebook1_ExploreDataset.ipynb"
   ]
  },
  {
   "cell_type": "code",
   "execution_count": 2,
   "metadata": {},
   "outputs": [],
   "source": [
    "import h5py\n",
    "import numpy as np\n",
    "import matplotlib.pyplot as plt"
   ]
  },
  {
   "cell_type": "code",
   "execution_count": 3,
   "metadata": {},
   "outputs": [
    {
     "name": "stdout",
     "output_type": "stream",
     "text": [
      "tutorials/Data/JetDataset/jetImage_7_100p_30000_40000.h5\n",
      "['jetImage_7_100p_0_10000.h5', 'jetImage_7_100p_10000_20000.h5', 'jetImage_7_100p_30000_40000.h5', 'jetImage_7_100p_40000_50000.h5', 'jetImage_7_100p_50000_60000.h5', 'jetImage_7_100p_60000_70000.h5', 'jetImage_7_100p_70000_80000.h5', 'jetImage_7_100p_80000_90000.h5']\n"
     ]
    }
   ],
   "source": [
    "A = ! ls tutorials/Data/JetDataset\n",
    "fileIN =  f'tutorials/Data/JetDataset/{A[2]}'\n",
    "print(fileIN)\n",
    "print(A)"
   ]
  },
  {
   "cell_type": "code",
   "execution_count": 4,
   "metadata": {},
   "outputs": [],
   "source": [
    "file = h5py.File(fileIN)"
   ]
  },
  {
   "cell_type": "code",
   "execution_count": 5,
   "metadata": {},
   "outputs": [
    {
     "name": "stdout",
     "output_type": "stream",
     "text": [
      "['jetConstituentList', 'jetFeatureNames', 'jetImage', 'jetImageECAL', 'jetImageHCAL', 'jets', 'particleFeatureNames']\n"
     ]
    }
   ],
   "source": [
    "print(list(file.keys()))"
   ]
  },
  {
   "cell_type": "code",
   "execution_count": 6,
   "metadata": {},
   "outputs": [
    {
     "name": "stdout",
     "output_type": "stream",
     "text": [
      "(10000, 100, 16)\n"
     ]
    },
    {
     "data": {
      "text/plain": [
       "(10000, 100, 4)"
      ]
     },
     "execution_count": 6,
     "metadata": {},
     "output_type": "execute_result"
    }
   ],
   "source": [
    "jetconstituents = file.get('jetConstituentList')\n",
    "\n",
    "print(jetconstituents.shape)\n",
    "NUM_PARTICLES = 1000\n",
    "NUM_JETS = 10000\n",
    "\n",
    "# Shape: num_jets x num_particles x 4\n",
    "fourvectors = jetconstituents[:, :NUM_PARTICLES, :4] # Particles (px, py, pz, E)\n",
    "fourvectors.shape\n"
   ]
  },
  {
   "cell_type": "code",
   "execution_count": 6,
   "metadata": {},
   "outputs": [
    {
     "name": "stdout",
     "output_type": "stream",
     "text": [
      "(10000, 59)\n"
     ]
    }
   ],
   "source": [
    "features = file.get('jets')\n",
    "print(features.shape)\n",
    "# for feat in features:\n",
    "#     print(feat)\n"
   ]
  },
  {
   "cell_type": "code",
   "execution_count": 7,
   "metadata": {},
   "outputs": [
    {
     "name": "stdout",
     "output_type": "stream",
     "text": [
      "b'j1_px'\n",
      "b'j1_py'\n",
      "b'j1_pz'\n",
      "b'j1_e'\n",
      "b'j1_erel'\n",
      "b'j1_pt'\n",
      "b'j1_ptrel'\n",
      "b'j1_eta'\n",
      "b'j1_etarel'\n",
      "b'j1_etarot'\n",
      "b'j1_phi'\n",
      "b'j1_phirel'\n",
      "b'j1_phirot'\n",
      "b'j1_deltaR'\n",
      "b'j1_costheta'\n",
      "b'j1_costhetarel'\n",
      "b'j1_pdgid'\n"
     ]
    }
   ],
   "source": [
    "features = file.get('particleFeatureNames')\n",
    "for feat in features:\n",
    "    print(feat)\n",
    "\n"
   ]
  },
  {
   "cell_type": "code",
   "execution_count": 8,
   "metadata": {},
   "outputs": [],
   "source": [
    "# Creating full matrix of inner products\n",
    "M = np.diag([-1, -1, -1, 1])\n",
    "masses = np.einsum(\"npi, ij, npj->np\", fourvectors, M, fourvectors)"
   ]
  },
  {
   "cell_type": "code",
   "execution_count": 9,
   "metadata": {},
   "outputs": [
    {
     "name": "stdout",
     "output_type": "stream",
     "text": [
      "(10000, 100, 100)\n"
     ]
    }
   ],
   "source": [
    "\n",
    "inner_prods = np.einsum(\"npi, ij, nqj->npq\", fourvectors, M, fourvectors)\n",
    "print(inner_prods.shape)"
   ]
  },
  {
   "cell_type": "code",
   "execution_count": 10,
   "metadata": {},
   "outputs": [
    {
     "name": "stdout",
     "output_type": "stream",
     "text": [
      "Target shape: (10000, 5) Data shape: (10000, 100, 100, 1)\n"
     ]
    }
   ],
   "source": [
    "jet_data = np.array(file.get('jets'))\n",
    "target = jet_data[:, -6:-1]\n",
    "data = np.expand_dims(inner_prods, axis=-1)\n",
    "print(f'Target shape: {target.shape} Data shape: {data.shape}')\n"
   ]
  },
  {
   "cell_type": "code",
   "execution_count": 11,
   "metadata": {},
   "outputs": [
    {
     "name": "stdout",
     "output_type": "stream",
     "text": [
      "[-1.99474511e-04  1.51382091e-02  1.97987621e-02  1.97071930e-02\n",
      "  1.94787945e-02 -7.07619447e-05  1.96450756e-02  1.94215894e-02\n",
      "  1.97682416e-02  2.48130463e-01  1.95317536e-02  1.97228822e-02\n",
      "  2.49051544e-01  2.46331456e-01  2.42878742e-01  2.41106736e-01\n",
      "  2.48052045e-01  1.89166967e-02  1.95089370e-02  1.99180745e-02\n",
      "  1.95871783e-02  2.37054535e-01  4.42374403e-06  2.47968874e-01\n",
      "  5.51335120e-06  1.89164223e-02  1.97135626e-02  4.48942043e-06\n",
      "  1.88289427e-02 -6.00081376e-06 -5.80419841e-06  1.96257486e-02\n",
      "  1.96897912e-02  1.97620432e-02  1.94742687e-02  1.94733123e-02\n",
      "  1.95572942e-02  6.10149634e-07  1.92523559e-02  1.95623538e-02\n",
      "  1.22577499e-06  1.95718340e-02  2.40283596e-01  1.30061693e-06\n",
      "  1.77183864e-06 -4.89753351e-07 -9.16488379e-07  1.97372971e-02\n",
      "  7.40285596e-07  3.45385942e-09  4.83733501e-07 -2.37540178e-07\n",
      "  2.01516156e-02  1.96992159e-02 -4.57837650e-07  1.97272635e-02\n",
      " -2.55336297e-07  1.93448001e-02  1.92207415e-02  1.95818228e-02\n",
      " -4.51336222e-07  2.44886849e-07  3.67967559e-07  1.97824204e-02\n",
      " -1.95520352e-07  1.96564172e-02 -2.31171389e-08 -7.13979782e-08\n",
      "  1.92401614e-02  2.28938113e-08  1.91202045e-02  1.87932189e-02\n",
      "  3.61444872e-08  1.95873970e-02  2.00977250e-02 -1.13869335e-07\n",
      "  1.69669920e-08  1.95487376e-02 -7.60594920e-11  1.93973692e-02\n",
      "  0.00000000e+00  0.00000000e+00  0.00000000e+00  0.00000000e+00\n",
      "  0.00000000e+00  0.00000000e+00  0.00000000e+00  0.00000000e+00\n",
      "  0.00000000e+00  0.00000000e+00  0.00000000e+00  0.00000000e+00\n",
      "  0.00000000e+00  0.00000000e+00  0.00000000e+00  0.00000000e+00\n",
      "  0.00000000e+00  0.00000000e+00  0.00000000e+00  0.00000000e+00]\n"
     ]
    }
   ],
   "source": [
    "print(np.einsum(\"ii->i\", inner_prods[0]))"
   ]
  },
  {
   "cell_type": "code",
   "execution_count": 12,
   "metadata": {},
   "outputs": [],
   "source": [
    "from sklearn.model_selection import train_test_split\n",
    "\n",
    "\n",
    "X_train, X_test, y_train, y_test = train_test_split(data[:NUM_JETS], target[:NUM_JETS], test_size=0.33)"
   ]
  },
  {
   "cell_type": "code",
   "execution_count": 13,
   "metadata": {},
   "outputs": [
    {
     "name": "stdout",
     "output_type": "stream",
     "text": [
      "(6700, 100, 100, 1) (3300, 100, 100, 1) (6700, 5) (3300, 5)\n"
     ]
    }
   ],
   "source": [
    "print(X_train.shape, X_test.shape, y_train.shape, y_test.shape)\n",
    "\n"
   ]
  },
  {
   "cell_type": "markdown",
   "metadata": {},
   "source": [
    "**Using the PELICAN architecture**"
   ]
  },
  {
   "cell_type": "code",
   "execution_count": 14,
   "metadata": {},
   "outputs": [
    {
     "name": "stdout",
     "output_type": "stream",
     "text": [
      "WARNING:tensorflow:From c:\\Users\\otkul\\ETH\\vår\\project\\.env\\Lib\\site-packages\\keras\\src\\losses.py:2976: The name tf.losses.sparse_softmax_cross_entropy is deprecated. Please use tf.compat.v1.losses.sparse_softmax_cross_entropy instead.\n",
      "\n"
     ]
    },
    {
     "name": "stderr",
     "output_type": "stream",
     "text": [
      "c:\\Users\\otkul\\ETH\\vår\\project\\.env\\Lib\\site-packages\\tqdm\\auto.py:21: TqdmWarning: IProgress not found. Please update jupyter and ipywidgets. See https://ipywidgets.readthedocs.io/en/stable/user_install.html\n",
      "  from .autonotebook import tqdm as notebook_tqdm\n"
     ]
    }
   ],
   "source": [
    "import tensorflow as tf\n",
    "from keras.models import Sequential\n",
    "from layers import Msg, LinEq2v2, LinEq2v0, InputLayer\n",
    "from keras.layers import Dropout, Dense, Flatten, Conv2D, MaxPooling2D\n",
    "from keras.losses import CategoricalCrossentropy\n",
    "from keras.metrics import CategoricalAccuracy\n",
    "from keras.optimizers import AdamW\n",
    "\n",
    "from tqdm.keras import TqdmCallback\n"
   ]
  },
  {
   "cell_type": "code",
   "execution_count": 15,
   "metadata": {},
   "outputs": [
    {
     "name": "stdout",
     "output_type": "stream",
     "text": [
      "WARNING:tensorflow:From c:\\Users\\otkul\\ETH\\vår\\project\\.env\\Lib\\site-packages\\keras\\src\\backend.py:873: The name tf.get_default_graph is deprecated. Please use tf.compat.v1.get_default_graph instead.\n",
      "\n"
     ]
    }
   ],
   "source": [
    "dropout_rate = 0.02\n",
    "model = Sequential(layers= [\n",
    "    InputLayer(),\n",
    "    Msg(30, activation='relu'),\n",
    "    Dropout(dropout_rate),\n",
    "    LinEq2v2(60, activation='relu'),\n",
    "    Dropout(dropout_rate),\n",
    "    LinEq2v0(120, activation='relu'),\n",
    "    Dropout(dropout_rate),\n",
    "    Dense(128, activation='relu'),\n",
    "    Dense(5, activation='softmax'),\n",
    "]\n",
    ")\n",
    "\n",
    "\n",
    "model.compile(\n",
    "    optimizer=AdamW(),\n",
    "    loss=CategoricalCrossentropy(),\n",
    "    metrics=[CategoricalAccuracy()],\n",
    ")\n",
    "\n"
   ]
  },
  {
   "cell_type": "code",
   "execution_count": null,
   "metadata": {},
   "outputs": [],
   "source": [
    "def scheduler(epoch, lr):\n",
    "    if epoch < 4:\n"
   ]
  },
  {
   "cell_type": "code",
   "execution_count": 16,
   "metadata": {},
   "outputs": [],
   "source": [
    "EPOCHS = 10\n",
    "BATCH = 128\n",
    "# model.build((BATCH, 100, 100, 1))\n",
    "\n"
   ]
  },
  {
   "cell_type": "code",
   "execution_count": 17,
   "metadata": {},
   "outputs": [
    {
     "name": "stderr",
     "output_type": "stream",
     "text": [
      "  0%|          | 0/10 [00:00<?, ?epoch/s]"
     ]
    },
    {
     "name": "stdout",
     "output_type": "stream",
     "text": [
      "WARNING:tensorflow:From c:\\Users\\otkul\\ETH\\vår\\project\\.env\\Lib\\site-packages\\keras\\src\\layers\\normalization\\batch_normalization.py:964: The name tf.nn.fused_batch_norm is deprecated. Please use tf.compat.v1.nn.fused_batch_norm instead.\n",
      "\n",
      "WARNING:tensorflow:From c:\\Users\\otkul\\ETH\\vår\\project\\.env\\Lib\\site-packages\\keras\\src\\utils\\tf_utils.py:492: The name tf.ragged.RaggedTensorValue is deprecated. Please use tf.compat.v1.ragged.RaggedTensorValue instead.\n",
      "\n"
     ]
    },
    {
     "name": "stderr",
     "output_type": "stream",
     "text": [
      " 20%|██        | 2/10 [31:34<2:05:17, 939.74s/epoch, loss=3.26e+5, categorical_accuracy=0.506, val_loss=1.7e+6, val_categorical_accuracy=0.113]"
     ]
    }
   ],
   "source": [
    "\n",
    "history = model.fit(\n",
    "    X_train,\n",
    "    y_train,\n",
    "    epochs = EPOCHS,\n",
    "    batch_size = BATCH,\n",
    "    validation_data=(X_test, y_test),\n",
    "    callbacks=[TqdmCallback(verbose=1)],\n",
    "    verbose=0\n",
    ")\n"
   ]
  },
  {
   "cell_type": "code",
   "execution_count": null,
   "metadata": {},
   "outputs": [
    {
     "name": "stdout",
     "output_type": "stream",
     "text": [
      "Model: \"sequential\"\n",
      "_________________________________________________________________\n",
      " Layer (type)                Output Shape              Param #   \n",
      "=================================================================\n",
      " input_layer (InputLayer)    (None, 100, 100, 1)       0         \n",
      "                                                                 \n",
      " msg (Msg)                   (None, 100, 100, 30)      150       \n",
      "                                                                 \n",
      " dropout (Dropout)           (None, 100, 100, 30)      0         \n",
      "                                                                 \n",
      " lin_eq2v2 (LinEq2v2)        (None, 100, 100, 60)      27000     \n",
      "                                                                 \n",
      " dropout_1 (Dropout)         (None, 100, 100, 60)      0         \n",
      "                                                                 \n",
      " msg_1 (Msg)                 (None, 100, 100, 30)      1920      \n",
      "                                                                 \n",
      " dropout_2 (Dropout)         (None, 100, 100, 30)      0         \n",
      "                                                                 \n",
      " lin_eq2v2_1 (LinEq2v2)      (None, 100, 100, 60)      27000     \n",
      "                                                                 \n",
      " dropout_3 (Dropout)         (None, 100, 100, 60)      0         \n",
      "                                                                 \n",
      " lin_eq2v0 (LinEq2v0)        (None, 120)               14400     \n",
      "                                                                 \n",
      " dropout_4 (Dropout)         (None, 120)               0         \n",
      "                                                                 \n",
      " dense (Dense)               (None, 128)               15488     \n",
      "                                                                 \n",
      " dense_1 (Dense)             (None, 5)                 645       \n",
      "                                                                 \n",
      "=================================================================\n",
      "Total params: 86603 (338.29 KB)\n",
      "Trainable params: 86483 (337.82 KB)\n",
      "Non-trainable params: 120 (480.00 Byte)\n",
      "_________________________________________________________________\n"
     ]
    }
   ],
   "source": [
    "model.summary()"
   ]
  },
  {
   "cell_type": "code",
   "execution_count": null,
   "metadata": {},
   "outputs": [
    {
     "name": "stdout",
     "output_type": "stream",
     "text": [
      "(100, 100, 1)\n",
      "[0. 1. 0. 0. 0.]\n",
      "tf.Tensor([[1. 0. 0. 0. 0.]], shape=(1, 5), dtype=float32)\n"
     ]
    }
   ],
   "source": [
    "print(X_train[0].shape)\n",
    "\n",
    "index =43\n",
    "\n",
    "ypred = model(X_test[index:index+1])\n",
    "y = y_test[index]\n",
    "print(y)\n",
    "print(ypred)\n"
   ]
  }
 ],
 "metadata": {
  "kernelspec": {
   "display_name": ".env",
   "language": "python",
   "name": "python3"
  },
  "language_info": {
   "codemirror_mode": {
    "name": "ipython",
    "version": 3
   },
   "file_extension": ".py",
   "mimetype": "text/x-python",
   "name": "python",
   "nbconvert_exporter": "python",
   "pygments_lexer": "ipython3",
   "version": "3.11.5"
  }
 },
 "nbformat": 4,
 "nbformat_minor": 2
}
