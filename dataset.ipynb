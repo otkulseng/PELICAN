{
 "cells": [
  {
   "cell_type": "markdown",
   "metadata": {},
   "source": [
    "**Loading of data**\n",
    "\n",
    "Initial code taken from: https://github.com/pierinim/tutorials/blob/master/GGI_Jan2021/Lecture1/Notebook1_ExploreDataset.ipynb"
   ]
  },
  {
   "cell_type": "code",
   "execution_count": 1,
   "metadata": {},
   "outputs": [],
   "source": [
    "import h5py\n",
    "import numpy as np\n",
    "import matplotlib.pyplot as plt"
   ]
  },
  {
   "cell_type": "code",
   "execution_count": 2,
   "metadata": {},
   "outputs": [
    {
     "name": "stdout",
     "output_type": "stream",
     "text": [
      "tutorials/Data/JetDataset/jetImage_7_100p_30000_40000.h5\n",
      "['jetImage_7_100p_0_10000.h5', 'jetImage_7_100p_10000_20000.h5', 'jetImage_7_100p_30000_40000.h5', 'jetImage_7_100p_40000_50000.h5', 'jetImage_7_100p_50000_60000.h5', 'jetImage_7_100p_60000_70000.h5', 'jetImage_7_100p_70000_80000.h5', 'jetImage_7_100p_80000_90000.h5']\n"
     ]
    }
   ],
   "source": [
    "A = ! ls tutorials/Data/JetDataset\n",
    "fileIN =  f'tutorials/Data/JetDataset/{A[2]}'\n",
    "print(fileIN)\n",
    "print(A)"
   ]
  },
  {
   "cell_type": "code",
   "execution_count": 3,
   "metadata": {},
   "outputs": [],
   "source": [
    "file = h5py.File(fileIN)"
   ]
  },
  {
   "cell_type": "code",
   "execution_count": 4,
   "metadata": {},
   "outputs": [
    {
     "name": "stdout",
     "output_type": "stream",
     "text": [
      "['jetConstituentList', 'jetFeatureNames', 'jetImage', 'jetImageECAL', 'jetImageHCAL', 'jets', 'particleFeatureNames']\n"
     ]
    }
   ],
   "source": [
    "print(list(file.keys()))"
   ]
  },
  {
   "cell_type": "code",
   "execution_count": 5,
   "metadata": {},
   "outputs": [],
   "source": [
    "jetconstituents = file.get('jetConstituentList')\n",
    "\n",
    "\n",
    "# Shape: num_jets x num_particles x 4\n",
    "fourvectors = jetconstituents[:, :, :4] # Particles (px, py, pz, E)\n"
   ]
  },
  {
   "cell_type": "code",
   "execution_count": 6,
   "metadata": {},
   "outputs": [
    {
     "name": "stdout",
     "output_type": "stream",
     "text": [
      "(10000, 100, 100)\n"
     ]
    }
   ],
   "source": [
    "# Creating full matrix of inner products\n",
    "M = np.diag([-1, -1, -1, 1])\n",
    "inner_prods = np.einsum(\"npi, ij, nqj->npq\", fourvectors, M, fourvectors)\n",
    "print(inner_prods.shape)"
   ]
  },
  {
   "cell_type": "code",
   "execution_count": 7,
   "metadata": {},
   "outputs": [
    {
     "name": "stdout",
     "output_type": "stream",
     "text": [
      "Target shape: (10000, 5) Data shape: (10000, 100, 100, 1)\n"
     ]
    }
   ],
   "source": [
    "jet_data = np.array(file.get('jets'))\n",
    "target = jet_data[:, -6:-1]\n",
    "data = np.expand_dims(inner_prods, axis=-1)\n",
    "print(f'Target shape: {target.shape} Data shape: {data.shape}')\n"
   ]
  },
  {
   "cell_type": "code",
   "execution_count": null,
   "metadata": {},
   "outputs": [],
   "source": [
    "print(np.einsum(\"ii->i\", ))"
   ]
  },
  {
   "cell_type": "code",
   "execution_count": 8,
   "metadata": {},
   "outputs": [],
   "source": [
    "from sklearn.model_selection import train_test_split\n",
    "NUM_JETS = 3000\n",
    "\n",
    "X_train, X_test, y_train, y_test = train_test_split(data[:NUM_JETS], target[:NUM_JETS], test_size=0.33)"
   ]
  },
  {
   "cell_type": "code",
   "execution_count": 9,
   "metadata": {},
   "outputs": [
    {
     "name": "stdout",
     "output_type": "stream",
     "text": [
      "(2010, 100, 100, 1) (990, 100, 100, 1) (2010, 5) (990, 5)\n"
     ]
    }
   ],
   "source": [
    "print(X_train.shape, X_test.shape, y_train.shape, y_test.shape)\n",
    "\n"
   ]
  },
  {
   "cell_type": "markdown",
   "metadata": {},
   "source": [
    "**Using the PELICAN architecture**"
   ]
  },
  {
   "cell_type": "code",
   "execution_count": 10,
   "metadata": {},
   "outputs": [
    {
     "name": "stdout",
     "output_type": "stream",
     "text": [
      "WARNING:tensorflow:From c:\\Users\\otkul\\ETH\\vår\\project\\.env\\Lib\\site-packages\\keras\\src\\losses.py:2976: The name tf.losses.sparse_softmax_cross_entropy is deprecated. Please use tf.compat.v1.losses.sparse_softmax_cross_entropy instead.\n",
      "\n"
     ]
    },
    {
     "name": "stderr",
     "output_type": "stream",
     "text": [
      "c:\\Users\\otkul\\ETH\\vår\\project\\.env\\Lib\\site-packages\\tqdm\\auto.py:21: TqdmWarning: IProgress not found. Please update jupyter and ipywidgets. See https://ipywidgets.readthedocs.io/en/stable/user_install.html\n",
      "  from .autonotebook import tqdm as notebook_tqdm\n"
     ]
    }
   ],
   "source": [
    "import tensorflow as tf\n",
    "from keras.models import Sequential\n",
    "from layers import Msg, LinEq2v2, LinEq2v0, InputLayer\n",
    "from keras.layers import Dropout, Dense, Flatten, Conv2D, MaxPooling2D\n",
    "from keras.losses import CategoricalCrossentropy\n",
    "from keras.metrics import CategoricalAccuracy\n",
    "from keras.optimizers import AdamW\n",
    "\n",
    "from tqdm.keras import TqdmCallback\n"
   ]
  },
  {
   "cell_type": "code",
   "execution_count": 11,
   "metadata": {},
   "outputs": [
    {
     "name": "stdout",
     "output_type": "stream",
     "text": [
      "WARNING:tensorflow:From c:\\Users\\otkul\\ETH\\vår\\project\\.env\\Lib\\site-packages\\keras\\src\\backend.py:873: The name tf.get_default_graph is deprecated. Please use tf.compat.v1.get_default_graph instead.\n",
      "\n"
     ]
    }
   ],
   "source": [
    "dropout_rate = 0.02\n",
    "model = Sequential(layers= [\n",
    "    InputLayer(),\n",
    "    Msg(10, activation='leaky_relu'),\n",
    "    Dropout(dropout_rate),\n",
    "    LinEq2v2(10, activation='leaky_relu'),\n",
    "    Msg(10, activation='leaky_relu'),\n",
    "    LinEq2v0(20, activation='leaky_relu'),\n",
    "    Dropout(dropout_rate),\n",
    "    Dense(64, activation='relu'),\n",
    "    Dropout(dropout_rate),\n",
    "    Dense(5, activation='softmax'),\n",
    "]\n",
    ")\n",
    "\n",
    "\n",
    "model.compile(\n",
    "    optimizer=AdamW(),\n",
    "    loss=CategoricalCrossentropy(),\n",
    "    metrics=[CategoricalAccuracy()],\n",
    ")\n",
    "\n"
   ]
  },
  {
   "cell_type": "code",
   "execution_count": 12,
   "metadata": {},
   "outputs": [],
   "source": [
    "EPOCHS = 10\n",
    "BATCH = 128\n",
    "# model.build((BATCH, 100, 100, 1))\n",
    "\n"
   ]
  },
  {
   "cell_type": "code",
   "execution_count": 13,
   "metadata": {},
   "outputs": [
    {
     "name": "stderr",
     "output_type": "stream",
     "text": [
      "  0%|          | 0/10 [00:00<?, ?epoch/s]"
     ]
    },
    {
     "name": "stdout",
     "output_type": "stream",
     "text": [
      "WARNING:tensorflow:From c:\\Users\\otkul\\ETH\\vår\\project\\.env\\Lib\\site-packages\\keras\\src\\layers\\normalization\\batch_normalization.py:964: The name tf.nn.fused_batch_norm is deprecated. Please use tf.compat.v1.nn.fused_batch_norm instead.\n",
      "\n",
      "WARNING:tensorflow:From c:\\Users\\otkul\\ETH\\vår\\project\\.env\\Lib\\site-packages\\keras\\src\\utils\\tf_utils.py:492: The name tf.ragged.RaggedTensorValue is deprecated. Please use tf.compat.v1.ragged.RaggedTensorValue instead.\n",
      "\n"
     ]
    },
    {
     "name": "stderr",
     "output_type": "stream",
     "text": []
    }
   ],
   "source": [
    "\n",
    "history = model.fit(\n",
    "    X_train,\n",
    "    y_train,\n",
    "    epochs = EPOCHS,\n",
    "    batch_size = BATCH,\n",
    "    validation_data=(X_test, y_test),\n",
    "    callbacks=[TqdmCallback(verbose=1)],\n",
    "    verbose=0\n",
    ")\n"
   ]
  },
  {
   "cell_type": "code",
   "execution_count": null,
   "metadata": {},
   "outputs": [
    {
     "name": "stdout",
     "output_type": "stream",
     "text": [
      "Model: \"sequential\"\n",
      "_________________________________________________________________\n",
      " Layer (type)                Output Shape              Param #   \n",
      "=================================================================\n",
      " input_layer (InputLayer)    (None, 100, 100, 1)       0         \n",
      "                                                                 \n",
      " msg (Msg)                   (None, 100, 100, 5)       25        \n",
      "                                                                 \n",
      " dropout (Dropout)           (None, 100, 100, 5)       0         \n",
      "                                                                 \n",
      " lin_eq2v2 (LinEq2v2)        (None, 100, 100, 5)       375       \n",
      "                                                                 \n",
      " msg_1 (Msg)                 (None, 100, 100, 5)       45        \n",
      "                                                                 \n",
      " lin_eq2v0 (LinEq2v0)        (None, 10)                100       \n",
      "                                                                 \n",
      " dropout_1 (Dropout)         (None, 10)                0         \n",
      "                                                                 \n",
      " dense (Dense)               (None, 500)               5500      \n",
      "                                                                 \n",
      " dropout_2 (Dropout)         (None, 500)               0         \n",
      "                                                                 \n",
      " dense_1 (Dense)             (None, 5)                 2505      \n",
      "                                                                 \n",
      "=================================================================\n",
      "Total params: 8550 (33.40 KB)\n",
      "Trainable params: 8530 (33.32 KB)\n",
      "Non-trainable params: 20 (80.00 Byte)\n",
      "_________________________________________________________________\n"
     ]
    }
   ],
   "source": [
    "model.summary()"
   ]
  },
  {
   "cell_type": "code",
   "execution_count": null,
   "metadata": {},
   "outputs": [
    {
     "name": "stdout",
     "output_type": "stream",
     "text": [
      "(100, 100, 1)\n",
      "[0. 1. 0. 0. 0.]\n",
      "tf.Tensor([[9.2767738e-07 8.7526038e-05 9.3932483e-12 9.9991155e-01 3.3586849e-14]], shape=(1, 5), dtype=float32)\n"
     ]
    }
   ],
   "source": [
    "print(X_train[0].shape)\n",
    "\n",
    "index =43\n",
    "\n",
    "ypred = model(X_test[index:index+1])\n",
    "y = y_test[index]\n",
    "print(y)\n",
    "print(ypred)\n"
   ]
  }
 ],
 "metadata": {
  "kernelspec": {
   "display_name": ".env",
   "language": "python",
   "name": "python3"
  },
  "language_info": {
   "codemirror_mode": {
    "name": "ipython",
    "version": 3
   },
   "file_extension": ".py",
   "mimetype": "text/x-python",
   "name": "python",
   "nbconvert_exporter": "python",
   "pygments_lexer": "ipython3",
   "version": "3.11.5"
  }
 },
 "nbformat": 4,
 "nbformat_minor": 2
}
