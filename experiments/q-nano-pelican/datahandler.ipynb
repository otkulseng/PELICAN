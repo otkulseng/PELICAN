{
 "cells": [
  {
   "cell_type": "code",
   "execution_count": 73,
   "metadata": {},
   "outputs": [],
   "source": [
    "import h5py\n",
    "from pathlib import Path\n",
    "import os\n",
    "import tensorflow as tf\n"
   ]
  },
  {
   "cell_type": "code",
   "execution_count": 74,
   "metadata": {},
   "outputs": [
    {
     "name": "stdout",
     "output_type": "stream",
     "text": [
      "c:\\Users\\otkul\\ETH\\vår\\project\\experiments\\q-nano-pelican\\nano-4\\best_acc.weights.h5\n"
     ]
    }
   ],
   "source": [
    "root = Path.cwd()\n",
    "experiment = 'nano-4'\n",
    "weight_file = None\n",
    "look_for = 'best_acc'\n",
    "\n",
    "for file in (root / experiment).iterdir():\n",
    "    if look_for not in file.name:\n",
    "        continue\n",
    "    weight_file = file\n",
    "print(weight_file)"
   ]
  },
  {
   "cell_type": "code",
   "execution_count": 75,
   "metadata": {},
   "outputs": [
    {
     "name": "stdout",
     "output_type": "stream",
     "text": [
      "{'dataset': {'feature_key': 'Pmu', 'folder': '../../data/nano_data', 'label_key': 'is_signal', 'num_particles': 32}, 'hyperparams': {'batch_size': 512, 'epochs': 1000, 'lr_init': 0.01, 'patience': 15, 'val_size': -1, 'verbose': 1}, 'model': {'activation': 'relu', 'inner_product': {'data_format': 'epxpypz', 'spurions': False}, 'n_bits': 8, 'n_hidden': 2, 'n_outputs': 1, 'num_avg': 25, 'out_activation': 'linear'}, 'save_dir': 'nano', 'seed': 545944663}\n"
     ]
    }
   ],
   "source": [
    "# load model\n",
    "from keras import models\n",
    "from qkeras.utils import load_qmodel\n",
    "from model import CreateModel\n",
    "import yaml\n",
    "import numpy as np\n",
    "def load_yaml(filename):\n",
    "    with open(filename, \"r\") as stream:\n",
    "        config = yaml.load(stream, Loader=yaml.Loader)\n",
    "    return config\n",
    "\n",
    "conf = load_yaml(root / experiment / 'config.yml')\n",
    "print(conf)\n",
    "\n",
    "const = tf.shape(np.zeros((10, 4)))\n",
    "\n",
    "my_model = CreateModel(const, conf['model'])\n"
   ]
  },
  {
   "cell_type": "code",
   "execution_count": 76,
   "metadata": {},
   "outputs": [
    {
     "name": "stderr",
     "output_type": "stream",
     "text": [
      "c:\\Users\\otkul\\anaconda3\\envs\\keras2\\Lib\\site-packages\\keras\\src\\constraints.py:365: UserWarning: The `keras.constraints.serialize()` API should only be used for objects of type `keras.constraints.Constraint`. Found an instance of type <class 'qkeras.quantizers.quantized_bits'>, which may lead to improper serialization.\n",
      "  warnings.warn(\n"
     ]
    }
   ],
   "source": [
    "my_model.load_weights(str(weight_file))"
   ]
  },
  {
   "cell_type": "code",
   "execution_count": 77,
   "metadata": {},
   "outputs": [
    {
     "name": "stdout",
     "output_type": "stream",
     "text": [
      "input_15\n",
      "inner_product_6\n",
      "q_batch_normalization_10\n",
      "lineq2v2_5\n",
      "q_dense_10\n",
      "multiply_5\n",
      "q_activation_5\n",
      "q_batch_normalization_11\n",
      "lineq2v0_5\n",
      "q_dense_11\n",
      "activation_5\n",
      "[<qkeras.qnormalization.QBatchNormalization object at 0x0000021A5316C290>, <qkeras.qnormalization.QBatchNormalization object at 0x0000021A52B84ED0>]\n",
      "[<qkeras.qlayers.QDense object at 0x0000021A53083B10>, <qkeras.qlayers.QDense object at 0x0000021A5340C550>]\n"
     ]
    }
   ],
   "source": [
    "\n",
    "\n",
    "bnorms = []\n",
    "denses = []\n",
    "for layer in my_model.layers:\n",
    "    print(layer.name)\n",
    "    if 'batch_norm' in layer.name:\n",
    "        bnorms.append(layer)\n",
    "    if 'dense' in layer.name:\n",
    "        denses.append(layer)\n",
    "print(bnorms)\n",
    "print(denses)"
   ]
  },
  {
   "cell_type": "code",
   "execution_count": 85,
   "metadata": {},
   "outputs": [
    {
     "name": "stdout",
     "output_type": "stream",
     "text": [
      "[[ 0.5610447  0.5056122]\n",
      " [ 2.104964   2.2404537]\n",
      " [ 0.6903273 -0.284152 ]]\n",
      "weight [1. 1.]\n",
      "bias [ 0.6903273 -0.284152 ]\n",
      "mean [0.5610447 0.5056122]\n",
      "var [0.22568916 0.19921777]\n"
     ]
    }
   ],
   "source": [
    "bnorm1 = bnorms[1]\n",
    "weights = [w for w in bnorm1.weights]\n",
    "names = [w.name for w in weights]\n",
    "\n",
    "elems = {}\n",
    "for idx, name in enumerate(names):\n",
    "    if 'mean' in name:\n",
    "        elems['mean'] = weights[idx].numpy()\n",
    "    if 'var' in name:\n",
    "        elems['var'] = weights[idx].numpy()\n",
    "    if 'gamma' in name:\n",
    "        elems['weight'] = weights[idx].numpy()\n",
    "    if 'beta' in name:\n",
    "        elems['bias'] = weights[idx].numpy()\n",
    "\n",
    "batch = np.array((elems['mean'], elems['weight']/np.sqrt(elems['var']), elems['bias']))\n",
    "print(batch)\n",
    "\n",
    "for k, v in elems.items():\n",
    "    print(k, v)"
   ]
  }
 ],
 "metadata": {
  "kernelspec": {
   "display_name": "pelican",
   "language": "python",
   "name": "python3"
  },
  "language_info": {
   "codemirror_mode": {
    "name": "ipython",
    "version": 3
   },
   "file_extension": ".py",
   "mimetype": "text/x-python",
   "name": "python",
   "nbconvert_exporter": "python",
   "pygments_lexer": "ipython3",
   "version": "3.11.9"
  }
 },
 "nbformat": 4,
 "nbformat_minor": 2
}
