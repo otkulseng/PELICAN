{
 "cells": [
  {
   "cell_type": "code",
   "execution_count": 73,
   "metadata": {},
   "outputs": [],
   "source": [
    "import h5py\n",
    "from pathlib import Path\n",
    "import os\n",
    "import tensorflow as tf\n"
   ]
  },
  {
   "cell_type": "code",
   "execution_count": 74,
   "metadata": {},
   "outputs": [
    {
     "name": "stdout",
     "output_type": "stream",
     "text": [
      "c:\\Users\\otkul\\ETH\\vår\\project\\experiments\\q-nano-pelican\\nano-4\\best_acc.weights.h5\n"
     ]
    }
   ],
   "source": [
    "root = Path.cwd()\n",
    "experiment = 'nano-4'\n",
    "weight_file = None\n",
    "look_for = 'best_acc'\n",
    "\n",
    "for file in (root / experiment).iterdir():\n",
    "    if look_for not in file.name:\n",
    "        continue\n",
    "    weight_file = file\n",
    "print(weight_file)"
   ]
  },
  {
   "cell_type": "code",
   "execution_count": 75,
   "metadata": {},
   "outputs": [
    {
     "name": "stdout",
     "output_type": "stream",
     "text": [
      "{'dataset': {'feature_key': 'Pmu', 'folder': '../../data/nano_data', 'label_key': 'is_signal', 'num_particles': 32}, 'hyperparams': {'batch_size': 512, 'epochs': 1000, 'lr_init': 0.01, 'patience': 15, 'val_size': -1, 'verbose': 1}, 'model': {'activation': 'relu', 'inner_product': {'data_format': 'epxpypz', 'spurions': False}, 'n_bits': 8, 'n_hidden': 2, 'n_outputs': 1, 'num_avg': 25, 'out_activation': 'linear'}, 'save_dir': 'nano', 'seed': 545944663}\n"
     ]
    }
   ],
   "source": [
    "# load model\n",
    "from keras import models\n",
    "from qkeras.utils import load_qmodel\n",
    "from model import CreateModel\n",
    "import yaml\n",
    "import numpy as np\n",
    "def load_yaml(filename):\n",
    "    with open(filename, \"r\") as stream:\n",
    "        config = yaml.load(stream, Loader=yaml.Loader)\n",
    "    return config\n",
    "\n",
    "conf = load_yaml(root / experiment / 'config.yml')\n",
    "print(conf)\n",
    "\n",
    "const = tf.shape(np.zeros((10, 4)))\n",
    "\n",
    "my_model = CreateModel(const, conf['model'])\n"
   ]
  },
  {
   "cell_type": "code",
   "execution_count": 76,
   "metadata": {},
   "outputs": [
    {
     "name": "stderr",
     "output_type": "stream",
     "text": [
      "c:\\Users\\otkul\\anaconda3\\envs\\keras2\\Lib\\site-packages\\keras\\src\\constraints.py:365: UserWarning: The `keras.constraints.serialize()` API should only be used for objects of type `keras.constraints.Constraint`. Found an instance of type <class 'qkeras.quantizers.quantized_bits'>, which may lead to improper serialization.\n",
      "  warnings.warn(\n"
     ]
    }
   ],
   "source": [
    "my_model.load_weights(str(weight_file))"
   ]
  },
  {
   "cell_type": "code",
   "execution_count": 77,
   "metadata": {},
   "outputs": [
    {
     "name": "stdout",
     "output_type": "stream",
     "text": [
      "input_15\n",
      "inner_product_6\n",
      "q_batch_normalization_10\n",
      "lineq2v2_5\n",
      "q_dense_10\n",
      "multiply_5\n",
      "q_activation_5\n",
      "q_batch_normalization_11\n",
      "lineq2v0_5\n",
      "q_dense_11\n",
      "activation_5\n",
      "[<qkeras.qnormalization.QBatchNormalization object at 0x0000021A5316C290>, <qkeras.qnormalization.QBatchNormalization object at 0x0000021A52B84ED0>]\n",
      "[<qkeras.qlayers.QDense object at 0x0000021A53083B10>, <qkeras.qlayers.QDense object at 0x0000021A5340C550>]\n"
     ]
    }
   ],
   "source": [
    "\n",
    "\n",
    "bnorms = []\n",
    "denses = []\n",
    "for layer in my_model.layers:\n",
    "    print(layer.name)\n",
    "    if 'batch_norm' in layer.name:\n",
    "        bnorms.append(layer)\n",
    "    if 'dense' in layer.name:\n",
    "        denses.append(layer)\n",
    "print(bnorms)\n",
    "print(denses)"
   ]
  },
  {
   "cell_type": "code",
   "execution_count": 85,
   "metadata": {},
   "outputs": [
    {
     "name": "stdout",
     "output_type": "stream",
     "text": [
      "[[ 0.5610447  0.5056122]\n",
      " [ 2.104964   2.2404537]\n",
      " [ 0.6903273 -0.284152 ]]\n",
      "weight [1. 1.]\n",
      "bias [ 0.6903273 -0.284152 ]\n",
      "mean [0.5610447 0.5056122]\n",
      "var [0.22568916 0.19921777]\n"
     ]
    }
   ],
   "source": [
    "bnorm1 = bnorms[1]\n",
    "weights = [w for w in bnorm1.weights]\n",
    "names = [w.name for w in weights]\n",
    "\n",
    "elems = {}\n",
    "for idx, name in enumerate(names):\n",
    "    if 'mean' in name:\n",
    "        elems['mean'] = weights[idx].numpy()\n",
    "    if 'var' in name:\n",
    "        elems['var'] = weights[idx].numpy()\n",
    "    if 'gamma' in name:\n",
    "        elems['weight'] = weights[idx].numpy()\n",
    "    if 'beta' in name:\n",
    "        elems['bias'] = weights[idx].numpy()\n",
    "\n",
    "batch = np.array((elems['mean'], elems['weight']/np.sqrt(elems['var']), elems['bias']))\n",
    "print(batch)\n",
    "\n",
    "for k, v in elems.items():\n",
    "    print(k, v)"
   ]
  },
  {
   "cell_type": "code",
   "execution_count": 55,
   "metadata": {},
   "outputs": [],
   "source": [
    "from pathlib import Path\n",
    "import h5py\n",
    "nconst=8\n",
    "n_int=0\n",
    "n_bits=10\n",
    "num = 0\n",
    "\n",
    "filename = Path(f'nconst{nconst}-nint{n_int}-nbits{n_bits}-{num}')\n",
    "# filename = Path('nano-nh2-nconst32-nint2-nbits8-0')\n",
    "weights = h5py.File(filename / 'best_acc.weights.h5')\n",
    "\n"
   ]
  },
  {
   "cell_type": "code",
   "execution_count": 56,
   "metadata": {},
   "outputs": [
    {
     "name": "stdout",
     "output_type": "stream",
     "text": [
      "_layer_checkpoint_dependencies\\activation\n",
      "---------\n",
      "_layer_checkpoint_dependencies\\inner_product\n",
      "---------\n",
      "_layer_checkpoint_dependencies\\input_layer\n",
      "---------\n",
      "_layer_checkpoint_dependencies\\lineq2v0\n",
      "---------\n",
      "0 2.8044567\n",
      "_layer_checkpoint_dependencies\\lineq2v2\n",
      "---------\n",
      "0 10.414902\n",
      "_layer_checkpoint_dependencies\\q_activation\n",
      "---------\n",
      "_layer_checkpoint_dependencies\\q_batch_normalization\n",
      "---------\n",
      "0 [0.04167621]\n",
      "1 [-0.06809629]\n",
      "2 [37.60376]\n",
      "3 [11309.849]\n",
      "_layer_checkpoint_dependencies\\q_batch_normalization_1\n",
      "---------\n",
      "0 [0.87324494 1.        ]\n",
      "1 [-0.04911453  0.21335994]\n",
      "2 [0.10199631 0.48902318]\n",
      "3 [0.04719022 0.08578406]\n",
      "_layer_checkpoint_dependencies\\q_dense\n",
      "---------\n",
      "0 [[-0.01195063 -0.6010795 ]\n",
      " [-0.1485838   0.06974085]\n",
      " [ 0.7315691  -0.29519188]\n",
      " [-0.5916678  -0.18088925]\n",
      " [-0.19097368  0.13847739]\n",
      " [-1.          0.11391481]\n",
      " [ 0.272981    0.28903875]]\n",
      "1 [-0.04708839  0.70848024]\n",
      "_layer_checkpoint_dependencies\\q_dense_1\n",
      "---------\n",
      "0 [[-0.27494466  0.41528156  0.32843423  0.2227415  -0.33774856]\n",
      " [-0.5528115  -0.50593126  0.5954193   0.0862399  -0.78404355]\n",
      " [-0.442095    0.13365504 -0.6574996  -0.8423413   0.91166466]\n",
      " [ 0.90083325  0.85485804 -0.8352328  -0.11507985  0.32313564]]\n",
      "1 [ 0.594726   -0.01482891 -0.21117951  0.63618106 -0.15179636]\n"
     ]
    }
   ],
   "source": [
    "import numpy as np\n",
    "for k, v in weights.items():\n",
    "    if 'layer' not in k:\n",
    "        continue\n",
    "    print(k)\n",
    "    print('---------')\n",
    "\n",
    "    if 'vars' not in v:\n",
    "        continue\n",
    "\n",
    "    v = v['vars']\n",
    "    for i, j in v.items():\n",
    "        print(i, np.array(j))\n"
   ]
  },
  {
   "cell_type": "code",
   "execution_count": 21,
   "metadata": {},
   "outputs": [
    {
     "name": "stdout",
     "output_type": "stream",
     "text": [
      "1 24\n"
     ]
    }
   ],
   "source": [
    "string = 'nconst8-nint1-nbits24'\n",
    "res = string.split('-')\n",
    "n_int = int(res[1][4:])\n",
    "n_bits = int(res[2][5:])\n",
    "\n",
    "print(n_int, n_bits)"
   ]
  },
  {
   "cell_type": "code",
   "execution_count": 54,
   "metadata": {},
   "outputs": [
    {
     "name": "stdout",
     "output_type": "stream",
     "text": [
      "[[ 2.          0.3178    ]\n",
      " [ 4.          0.32149413]\n",
      " [ 6.          0.44707647]\n",
      " [ 8.          0.45231175]\n",
      " [10.          0.45722353]\n",
      " [12.          0.45732352]\n",
      " [14.          0.45717648]\n",
      " [16.          0.45934707]\n",
      " [24.          0.45951766]]\n",
      "[[ 8.          0.44871175]\n",
      " [10.          0.4711    ]\n",
      " [16.          0.4639412 ]]\n"
     ]
    },
    {
     "data": {
      "text/plain": [
       "Text(0, 0.5, 'acc / fp-acc')"
      ]
     },
     "execution_count": 54,
     "metadata": {},
     "output_type": "execute_result"
    },
    {
     "data": {
      "image/png": "[encoded data removed]",
      "text/plain": [
       "<Figure size 640x480 with 1 Axes>"
      ]
     },
     "metadata": {},
     "output_type": "display_data"
    }
   ],
   "source": [
    "from pathlib import Path\n",
    "import pandas as pd\n",
    "import matplotlib.pyplot as plt\n",
    "\n",
    "ALLBEST = 0.4603706\n",
    "name = 'nconst8-nint1'\n",
    "def get_res(name):\n",
    "    results = {}\n",
    "    for file in Path.cwd().iterdir():\n",
    "        if name not in file.name[:len(name)]:\n",
    "            continue\n",
    "\n",
    "        n_bits = int(file.name.split('-')[2][len('nbits'):])\n",
    "        try:\n",
    "            res = pd.read_csv(file / 'eval' / 'result.csv')['cat_acc'][0]\n",
    "            prev_res = results.get(n_bits, 0)\n",
    "            results[n_bits] = max(prev_res, res)\n",
    "        except FileNotFoundError:\n",
    "            continue\n",
    "\n",
    "    arr = np.array(sorted(results.items()))\n",
    "    print(arr)\n",
    "    return arr[:, 0], arr[:, 1]\n",
    "\n",
    "x1, y1 = get_res('nconst8-nint1')\n",
    "x0, y0 = get_res('nconst8-nint0')\n",
    "plt.plot(x0, y0/ALLBEST, label='nint 0')\n",
    "plt.plot(x1, y1/ALLBEST, label='nint 1')\n",
    "plt.legend()\n",
    "plt.xticks(np.arange(2, 25, step=2))\n",
    "plt.xlabel('bitwidth')\n",
    "plt.ylabel('acc / fp-acc')\n",
    "\n"
   ]
  }
 ],
 "metadata": {
  "kernelspec": {
   "display_name": "pelican",
   "language": "python",
   "name": "python3"
  },
  "language_info": {
   "codemirror_mode": {
    "name": "ipython",
    "version": 3
   },
   "file_extension": ".py",
   "mimetype": "text/x-python",
   "name": "python",
   "nbconvert_exporter": "python",
   "pygments_lexer": "ipython3",
   "version": "3.11.9"
  }
 },
 "nbformat": 4,
 "nbformat_minor": 2
}
