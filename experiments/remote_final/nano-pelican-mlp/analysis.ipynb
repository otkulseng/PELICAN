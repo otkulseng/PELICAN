{
 "cells": [
  {
   "cell_type": "code",
   "execution_count": 1,
   "metadata": {},
   "outputs": [
    {
     "name": "stderr",
     "output_type": "stream",
     "text": [
      "c:\\Users\\otkul\\anaconda3\\envs\\pelicanLocal\\Lib\\site-packages\\tqdm\\auto.py:21: TqdmWarning: IProgress not found. Please update jupyter and ipywidgets. See https://ipywidgets.readthedocs.io/en/stable/user_install.html\n",
      "  from .autonotebook import tqdm as notebook_tqdm\n"
     ]
    }
   ],
   "source": [
    "from pathlib import Path\n",
    "from nanopelican.scripts import *\n",
    "import pandas as pd"
   ]
  },
  {
   "cell_type": "code",
   "execution_count": 2,
   "metadata": {},
   "outputs": [],
   "source": [
    "def extract_results(folder):\n",
    "    csv = pd.read_csv(folder / 'result.csv')\n",
    "    # acc = csv['best_acc']\n",
    "    best_acc = csv['accuracy'][0]\n",
    "    best_acc_auc = csv['auc'][0]\n",
    "    return best_acc, best_acc_auc"
   ]
  },
  {
   "cell_type": "code",
   "execution_count": 3,
   "metadata": {},
   "outputs": [
    {
     "name": "stdout",
     "output_type": "stream",
     "text": [
      "{32: {2: [0.6543235], 8: [0.6795176, 0.6822823, 0.6826, 0.6806647]}, 8: {8: [0.4687706, 0.4644941, 0.46700588, 0.46533528], 2: [0.45805293, 0.41317058, 0.41241765, 0.4150059]}, 16: {2: [0.5576647, 0.55264115, 0.51314706, 0.55588824], 8: [0.5800529, 0.5794412, 0.57841176, 0.5785118]}}\n"
     ]
    }
   ],
   "source": [
    "search = 'new-nano-pelican'\n",
    "\n",
    "results = {}\n",
    "\n",
    "for file in Path.cwd().iterdir():\n",
    "    if search not in file.name:\n",
    "        continue\n",
    "    conf = load_yaml(file / 'config.yml')\n",
    "\n",
    "    units = conf['model']['hidden']['units'][0]\n",
    "\n",
    "    const = conf['dataset']['num_particles']\n",
    "\n",
    "    acc, auc = extract_results(file / 'eval')\n",
    "\n",
    "    if const not in results:\n",
    "        results[const] = {}\n",
    "\n",
    "    if units not in results[const]:\n",
    "        results[const].update({\n",
    "            units : []\n",
    "        })\n",
    "    results[const][units].append(acc)\n",
    "\n",
    "\n",
    "\n",
    "\n",
    "    # print(units, const)\n",
    "print(results)"
   ]
  },
  {
   "cell_type": "code",
   "execution_count": 6,
   "metadata": {},
   "outputs": [
    {
     "name": "stdout",
     "output_type": "stream",
     "text": [
      "2 [0.6543235]\n",
      "8 [0.6795176, 0.6822823, 0.6826, 0.6806647]\n"
     ]
    }
   ],
   "source": [
    "for k, v in results[32].items():\n",
    "    print(k, v)"
   ]
  }
 ],
 "metadata": {
  "kernelspec": {
   "display_name": "pelicanLocal",
   "language": "python",
   "name": "python3"
  },
  "language_info": {
   "codemirror_mode": {
    "name": "ipython",
    "version": 3
   },
   "file_extension": ".py",
   "mimetype": "text/x-python",
   "name": "python",
   "nbconvert_exporter": "python",
   "pygments_lexer": "ipython3",
   "version": "3.12.3"
  }
 },
 "nbformat": 4,
 "nbformat_minor": 2
}
