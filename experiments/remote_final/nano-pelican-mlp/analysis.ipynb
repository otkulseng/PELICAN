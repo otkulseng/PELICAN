{
 "cells": [
  {
   "cell_type": "code",
   "execution_count": 1,
   "metadata": {},
   "outputs": [
    {
     "name": "stderr",
     "output_type": "stream",
     "text": [
      "c:\\Users\\otkul\\anaconda3\\envs\\pelicanLocal\\Lib\\site-packages\\tqdm\\auto.py:21: TqdmWarning: IProgress not found. Please update jupyter and ipywidgets. See https://ipywidgets.readthedocs.io/en/stable/user_install.html\n",
      "  from .autonotebook import tqdm as notebook_tqdm\n"
     ]
    }
   ],
   "source": [
    "from pathlib import Path\n",
    "from nanopelican.scripts import *\n",
    "import pandas as pd"
   ]
  },
  {
   "cell_type": "code",
   "execution_count": 19,
   "metadata": {},
   "outputs": [],
   "source": [
    "def extract_results(folder):\n",
    "    csv = pd.read_csv(folder / 'result.csv')\n",
    "    # acc = csv['best_acc']\n",
    "    best_acc = csv['accuracy'][0]\n",
    "    best_acc_auc = csv['auc'][0]\n",
    "\n",
    "    best_loss = csv['loss'][1]\n",
    "    best_loss_auc = csv['auc'][1]\n",
    "\n",
    "    return (best_acc, best_acc_auc), (best_loss, best_loss_auc)"
   ]
  },
  {
   "cell_type": "code",
   "execution_count": 33,
   "metadata": {},
   "outputs": [
    {
     "name": "stdout",
     "output_type": "stream",
     "text": [
      "[Errno 2] No such file or directory: 'c:\\\\Users\\\\otkul\\\\ETH\\\\vår\\\\project\\\\experiments\\\\remote_final\\\\nano-pelican-mlp\\\\sixteen-nano-pelican-0\\\\eval\\\\result.csv'\n",
      "[Errno 2] No such file or directory: 'c:\\\\Users\\\\otkul\\\\ETH\\\\vår\\\\project\\\\experiments\\\\remote_final\\\\nano-pelican-mlp\\\\sixteen-nano-pelican-1\\\\eval\\\\result.csv'\n",
      "[Errno 2] No such file or directory: 'c:\\\\Users\\\\otkul\\\\ETH\\\\vår\\\\project\\\\experiments\\\\remote_final\\\\nano-pelican-mlp\\\\sixteen-nano-pelican-2\\\\eval\\\\result.csv'\n",
      "[Errno 2] No such file or directory: 'c:\\\\Users\\\\otkul\\\\ETH\\\\vår\\\\project\\\\experiments\\\\remote_final\\\\nano-pelican-mlp\\\\ten-nano-pelican-0\\\\eval\\\\result.csv'\n",
      "[Errno 2] No such file or directory: 'c:\\\\Users\\\\otkul\\\\ETH\\\\vår\\\\project\\\\experiments\\\\remote_final\\\\nano-pelican-mlp\\\\twelve-nano-pelican-0\\\\eval\\\\result.csv'\n",
      "{32: {2: [0.66018826, 0.3148647, 0.6527, 0.6543235], 3: [0.6653], 8: [0.6829, 0.6829, 0.6795176, 0.6822823, 0.6826, 0.6806647], 5: [0.6715353, 0.6715353, 0.6715353, 0.6715353]}, 8: {8: [0.4687706, 0.4644941, 0.46700588, 0.46533528], 2: [0.45805293, 0.41317058, 0.41241765, 0.4150059], 32: [0.47367647]}, 16: {2: [0.5576647, 0.55264115, 0.51314706, 0.55588824], 8: [0.5800529, 0.5794412, 0.57841176, 0.5785118]}}\n",
      "[[32, 2, 0.66018826, '0.8207|0.8559|0.9177|0.9008|0.9001'], [32, 3, 0.6653, '0.8261|0.8591|0.9227|0.9109|0.9048'], [32, 8, 0.6829, '0.8539|0.8792|0.9278|0.9163|0.9154'], [32, 2, 0.3148647, '0.6749|0.7262|0.6124|0.5922|0.7129'], [32, 5, 0.6715353, '0.8411|0.8726|0.9258|0.9141|0.9128'], [32, 5, 0.6715353, '0.8411|0.8726|0.9258|0.9141|0.9128'], [32, 5, 0.6715353, '0.8411|0.8726|0.9258|0.9141|0.9128'], [32, 5, 0.6715353, '0.8411|0.8726|0.9258|0.9141|0.9128'], [32, 8, 0.6829, '0.8539|0.8792|0.9278|0.9163|0.9154'], [32, 2, 0.6527, '0.7986|0.8492|0.9076|0.8944|0.8993'], [32, 2, 0.6543235, '0.7977|0.8497|0.9111|0.8964|0.8962'], [32, 8, 0.6795176, '0.8484|0.8757|0.9275|0.9163|0.9136'], [8, 8, 0.4687706, '0.7584|0.8044|0.7594|0.7463|0.8494'], [8, 8, 0.4644941, '0.7634|0.7978|0.7601|0.746|0.8476'], [8, 8, 0.46700588, '0.7633|0.8|0.7609|0.7464|0.8461'], [8, 2, 0.45805293, '0.7459|0.797|0.752|0.7403|0.8395'], [8, 2, 0.41317058, '0.7155|0.7932|0.7252|0.6942|0.8098'], [8, 2, 0.41241765, '0.7167|0.7934|0.7252|0.6943|0.81'], [8, 2, 0.4150059, '0.717|0.7933|0.7245|0.6968|0.8098'], [16, 2, 0.5576647, '0.7758|0.8212|0.8539|0.8364|0.8884'], [16, 2, 0.55264115, '0.7641|0.8175|0.8553|0.839|0.8849'], [16, 2, 0.51314706, '0.7337|0.8113|0.8205|0.8119|0.8602'], [32, 8, 0.6822823, '0.8524|0.8795|0.929|0.92|0.9143'], [16, 2, 0.55588824, '0.783|0.8243|0.8487|0.8364|0.8893'], [32, 8, 0.6826, '0.8531|0.8763|0.9271|0.918|0.9151'], [32, 8, 0.6806647, '0.8482|0.8754|0.9284|0.917|0.9119'], [16, 8, 0.5800529, '0.794|0.8476|0.8614|0.8446|0.8908'], [16, 8, 0.5794412, '0.7996|0.8449|0.8637|0.8456|0.8937'], [16, 8, 0.57841176, '0.8|0.8426|0.8615|0.8433|0.8932'], [16, 8, 0.5785118, '0.8039|0.8504|0.86|0.8445|0.8936'], [8, 8, 0.46533528, '0.7553|0.7985|0.7627|0.7481|0.848'], [8, 32, 0.47367647, '0.7636|0.8054|0.7692|0.7545|0.8522']]\n"
     ]
    }
   ],
   "source": [
    "search = 'nano-pelican'\n",
    "\n",
    "results = {}\n",
    "\n",
    "all_res = []\n",
    "\n",
    "for file in Path.cwd().iterdir():\n",
    "    if search not in file.name:\n",
    "        continue\n",
    "    conf = load_yaml(file / 'config.yml')\n",
    "\n",
    "    units = conf['model']['hidden']['units'][0]\n",
    "\n",
    "    const = conf['dataset']['num_particles']\n",
    "    try:\n",
    "        (acc, acc_auc), (loss, loss_auc) = extract_results(file / 'eval')\n",
    "\n",
    "        if const not in results:\n",
    "            results[const] = {}\n",
    "\n",
    "        if units not in results[const]:\n",
    "            results[const].update({\n",
    "                units : []\n",
    "            })\n",
    "        results[const][units].append(acc)\n",
    "\n",
    "        all_res.append([const, units, acc, acc_auc])\n",
    "\n",
    "    except Exception as e:\n",
    "        print(e)\n",
    "        continue\n",
    "\n",
    "    # print(f'{acc_auc} vs {loss_auc}')\n",
    "\n",
    "\n",
    "\n",
    "\n",
    "    # print(units, const)\n",
    "print(results)\n",
    "print(all_res)"
   ]
  },
  {
   "cell_type": "code",
   "execution_count": 35,
   "metadata": {},
   "outputs": [
    {
     "name": "stdout",
     "output_type": "stream",
     "text": [
      "\n",
      "\n",
      " 8\n",
      "8 0.4687706 0.0016395814891230459 0\n",
      "2 0.45805293 0.019301368564125843 0\n",
      "32 0.47367647 0.0 0\n",
      "\n",
      "\n",
      " 16\n",
      "2 0.5576647 0.018383666905184323 0\n",
      "8 0.5800529 0.0006789719100779985 0\n",
      "\n",
      "\n",
      " 32\n",
      "2 0.66018826 0.14762842568305964 0\n",
      "3 0.6653 0.0 0\n",
      "8 0.6829 0.0012773784099561639 0\n",
      "5 0.6715353 0.0 0\n"
     ]
    }
   ],
   "source": [
    "import numpy as np\n",
    "runs = [8, 16, 32]\n",
    "\n",
    "best = {\n",
    "    key: {} for key in runs\n",
    "}\n",
    "for run_for in runs:\n",
    "    print('\\n\\n', run_for)\n",
    "    for k, v in results[run_for].items():\n",
    "        idx = np.argmax(v)\n",
    "        val = v[idx]\n",
    "        std = np.std(v)\n",
    "        print(k, val, std, idx)\n",
    "        best[run_for][k] = val\n"
   ]
  },
  {
   "cell_type": "code",
   "execution_count": 53,
   "metadata": {},
   "outputs": [
    {
     "name": "stdout",
     "output_type": "stream",
     "text": [
      "32 8 0.6829 0.85&0.88&0.93&0.92&0.92\n",
      "32 8 0.6829 0.85&0.88&0.93&0.92&0.92\n"
     ]
    }
   ],
   "source": [
    "const = 32\n",
    "units = 8\n",
    "\n",
    "# [const, units, acc, acc_auc]\n",
    "for c, u, acc, auc in all_res:\n",
    "    if c != const or u != units:\n",
    "        continue\n",
    "    if acc != best[const][units]:\n",
    "        continue\n",
    "\n",
    "    auc = [\n",
    "        str(round(float(elem), 2)) for elem in auc.split('|')\n",
    "    ]\n",
    "    print(c, u, acc, \"&\".join(auc))"
   ]
  }
 ],
 "metadata": {
  "kernelspec": {
   "display_name": "pelicanLocal",
   "language": "python",
   "name": "python3"
  },
  "language_info": {
   "codemirror_mode": {
    "name": "ipython",
    "version": 3
   },
   "file_extension": ".py",
   "mimetype": "text/x-python",
   "name": "python",
   "nbconvert_exporter": "python",
   "pygments_lexer": "ipython3",
   "version": "3.12.3"
  }
 },
 "nbformat": 4,
 "nbformat_minor": 2
}
